{
 "cells": [
  {
   "attachments": {},
   "cell_type": "markdown",
   "id": "4e72e587",
   "metadata": {},
   "source": [
    "# Algorithm Workbench \n",
    "### question 1 "
   ]
  },
  {
   "cell_type": "markdown",
   "id": "9ebdf378",
   "metadata": {},
   "source": [
    "### this code is asking use to write a program that opens an output file with the filename \n",
    "### writes your name to the file, then closes the file. "
   ]
  },
  {
   "cell_type": "code",
   "execution_count": 8,
   "id": "d783c309",
   "metadata": {},
   "outputs": [],
   "source": [
    "# define the file name \n",
    "filename = \"my_name.txt\"\n",
    "\n",
    "# open file name in write mode \n",
    "with open(filename, \"w\") as file:\n",
    "    # write name to the file \n",
    "    file.write(\"Jaden\")"
   ]
  },
  {
   "cell_type": "markdown",
   "id": "2157fbdd",
   "metadata": {},
   "source": [
    "# question 2 \n",
    "### Write a program that opens the  file that was created by the program in problem 1\n",
    "### reads your name from the file, displays the name on the screen, then closes the file."
   ]
  },
  {
   "cell_type": "code",
   "execution_count": 9,
   "id": "c4b90377",
   "metadata": {},
   "outputs": [
    {
     "name": "stdout",
     "output_type": "stream",
     "text": [
      "Jaden\n"
     ]
    }
   ],
   "source": [
    "# define the file name \n",
    "filename = \"my_name.txt\"\n",
    "\n",
    "# open file name in read mode \n",
    "with open(filename, \"r\") as file:\n",
    "    # print name in the file  \n",
    "    print(file.read())"
   ]
  },
  {
   "cell_type": "markdown",
   "id": "b7d4d05d",
   "metadata": {},
   "source": [
    "# Programming Exercises\n",
    "# #1 File Display\n",
    "### Assume a file containing a series of integers is named  and exists on the computer’s disk. \n",
    "### Write a program that displays all of the numbers in the file."
   ]
  },
  {
   "cell_type": "code",
   "execution_count": 15,
   "id": "c43d0aa4",
   "metadata": {
    "scrolled": true
   },
   "outputs": [
    {
     "name": "stdout",
     "output_type": "stream",
     "text": [
      "100\n",
      "2\n",
      "9\n",
      "85\n",
      "47\n",
      "34\n",
      "10\n",
      "7\n",
      "87"
     ]
    }
   ],
   "source": [
    "# define the file name \n",
    "filename = \"number.txt\"\n",
    "\n",
    "# open file name in read mode \n",
    "with open(filename, \"r\") as file:\n",
    "    # loop though each line in the file \n",
    "    for line in file.readlines():\n",
    "        # print the number on this line, end=\"\" for proper display \n",
    "        print(line,end='')"
   ]
  },
  {
   "cell_type": "markdown",
   "id": "8b4b5596",
   "metadata": {},
   "source": [
    "# 6. Average of Numbers"
   ]
  },
  {
   "cell_type": "code",
   "execution_count": 17,
   "id": "6cf48b7b",
   "metadata": {},
   "outputs": [
    {
     "name": "stdout",
     "output_type": "stream",
     "text": [
      "42.333333333333336\n"
     ]
    }
   ],
   "source": [
    "# define the file name \n",
    "filename = \"number.txt\"\n",
    "\n",
    "# open file name in read mode \n",
    "count = 0\n",
    "sum = 0 \n",
    "with open(filename, \"r\") as file:\n",
    "    # loop though each line in the file \n",
    "    for line in file.readlines():\n",
    "        # count total of numbers \n",
    "        count += 1\n",
    "        # for int function for equation to work \n",
    "        num = int(line)\n",
    "        sum += num \n",
    "# the answer \n",
    "avg = sum/count \n",
    "print(avg)"
   ]
  },
  {
   "cell_type": "markdown",
   "id": "f96805b9",
   "metadata": {},
   "source": [
    "# 9. Exception Handing"
   ]
  },
  {
   "cell_type": "code",
   "execution_count": 18,
   "id": "291c8eef",
   "metadata": {},
   "outputs": [
    {
     "name": "stdout",
     "output_type": "stream",
     "text": [
      "file not found: \n"
     ]
    }
   ],
   "source": [
    "# added try at top so all the code is handled \n",
    "try:\n",
    "    # define the file name \n",
    "    filename = \"number.txt\"\n",
    "\n",
    "    # open file name in read mode \n",
    "    count = 0\n",
    "    sum = 0 \n",
    "    with open(filename, \"r\") as file:\n",
    "        # loop though each line in the file \n",
    "        for line in file.readlines():\n",
    "            # count total of numbers \n",
    "            count += 1\n",
    "            # for int function for equation to work \n",
    "            num = int(line)\n",
    "            sum += num \n",
    "    # the answer \n",
    "    avg = sum/count \n",
    "    print(avg)\n",
    "# handling the IOError and ValueError exceptions \n",
    "except IOError:\n",
    "    print(\"file not found: \")\n",
    "except ValueError:\n",
    "    print(\"failed to add the numbers :( \")"
   ]
  },
  {
   "cell_type": "code",
   "execution_count": null,
   "id": "07459ac0",
   "metadata": {},
   "outputs": [],
   "source": []
  }
 ],
 "metadata": {
  "kernelspec": {
   "display_name": "Python 3 (ipykernel)",
   "language": "python",
   "name": "python3"
  },
  "language_info": {
   "codemirror_mode": {
    "name": "ipython",
    "version": 3
   },
   "file_extension": ".py",
   "mimetype": "text/x-python",
   "name": "python",
   "nbconvert_exporter": "python",
   "pygments_lexer": "ipython3",
   "version": "3.11.4"
  }
 },
 "nbformat": 4,
 "nbformat_minor": 5
}
