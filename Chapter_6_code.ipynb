{
 "cells": [
  {
   "attachments": {},
   "cell_type": "markdown",
   "id": "a5de585a",
   "metadata": {},
   "source": [
    "# Algorithm Workbench \n",
    "### question 1 "
   ]
  },
  {
   "cell_type": "markdown",
   "id": "21f754a0",
   "metadata": {},
   "source": [
    "### this code is asking use to write a program that opens an output file with the filename \n",
    "### writes your name to the file, then closes the file. "
   ]
  },
  {
   "cell_type": "code",
   "execution_count": 6,
   "id": "8f8b16de",
   "metadata": {},
   "outputs": [],
   "source": [
    "# define the file name \n",
    "filename = \"output.txt\"\n",
    "\n",
    "# open file name in write mode \n",
    "with open(filename, \"w\") as file:\n",
    "    # write name to the file \n",
    "    file.write(\"Jaden\")"
   ]
  },
  {
   "cell_type": "code",
   "execution_count": null,
   "id": "8e7a05b8",
   "metadata": {},
   "outputs": [],
   "source": []
  }
 ],
 "metadata": {
  "kernelspec": {
   "display_name": "Python 3 (ipykernel)",
   "language": "python",
   "name": "python3"
  },
  "language_info": {
   "codemirror_mode": {
    "name": "ipython",
    "version": 3
   },
   "file_extension": ".py",
   "mimetype": "text/x-python",
   "name": "python",
   "nbconvert_exporter": "python",
   "pygments_lexer": "ipython3",
   "version": "3.11.4"
  }
 },
 "nbformat": 4,
 "nbformat_minor": 5
}
