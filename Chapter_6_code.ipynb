{
 "cells": [
  {
   "attachments": {},
   "cell_type": "markdown",
   "id": "a9a46fdf",
   "metadata": {},
   "source": [
    "# Algorithm Workbench \n",
    "### question 1 "
   ]
  },
  {
   "cell_type": "markdown",
   "id": "a4a3bd43",
   "metadata": {},
   "source": [
    "### this code is asking use to write a program that opens an output file with the filename \n",
    "### writes your name to the file, then closes the file. "
   ]
  },
  {
   "cell_type": "code",
   "execution_count": 8,
   "id": "f651d6aa",
   "metadata": {},
   "outputs": [],
   "source": [
    "# define the file name \n",
    "filename = \"my_name.txt\"\n",
    "\n",
    "# open file name in write mode \n",
    "with open(filename, \"w\") as file:\n",
    "    # write name to the file \n",
    "    file.write(\"Jaden\")"
   ]
  },
  {
   "cell_type": "markdown",
   "id": "522e7df4",
   "metadata": {},
   "source": [
    "# question 2 \n",
    "### Write a program that opens the  file that was created by the program in problem 1\n",
    "### reads your name from the file, displays the name on the screen, then closes the file."
   ]
  },
  {
   "cell_type": "code",
   "execution_count": 9,
   "id": "7e79a559",
   "metadata": {},
   "outputs": [
    {
     "name": "stdout",
     "output_type": "stream",
     "text": [
      "Jaden\n"
     ]
    }
   ],
   "source": [
    "# define the file name \n",
    "filename = \"my_name.txt\"\n",
    "\n",
    "# open file name in read mode \n",
    "with open(filename, \"r\") as file:\n",
    "    # print name in the file  \n",
    "    print(file.read())"
   ]
  },
  {
   "cell_type": "code",
   "execution_count": null,
   "id": "02a66561",
   "metadata": {},
   "outputs": [],
   "source": []
  }
 ],
 "metadata": {
  "kernelspec": {
   "display_name": "Python 3 (ipykernel)",
   "language": "python",
   "name": "python3"
  },
  "language_info": {
   "codemirror_mode": {
    "name": "ipython",
    "version": 3
   },
   "file_extension": ".py",
   "mimetype": "text/x-python",
   "name": "python",
   "nbconvert_exporter": "python",
   "pygments_lexer": "ipython3",
   "version": "3.11.4"
  }
 },
 "nbformat": 4,
 "nbformat_minor": 5
}
