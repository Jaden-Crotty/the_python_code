{
 "cells": [
  {
   "cell_type": "markdown",
   "id": "7caec613",
   "metadata": {},
   "source": [
    "# 4. \n",
    "### Employee ClassWrite a class named  that holds the following data about an employee in attributes: name, ID number, department, and job title.Once you have written the class, write a program that creates three  objects to hold the following data The program should store this data in the three objects, then display the data for each employee on the screen."
   ]
  },
  {
   "cell_type": "code",
   "execution_count": 15,
   "id": "15ad1ff3",
   "metadata": {},
   "outputs": [
    {
     "name": "stdout",
     "output_type": "stream",
     "text": [
      "employee name: Susan Meyers\n",
      "ID number: 47899\n",
      "department: Accounting\n",
      "job title: Vice President\n",
      "\n",
      "employee name: Mark Jones\n",
      "ID number: 39119\n",
      "department: IT\n",
      "job title: Programmer\n",
      "\n",
      "employee name: Joy Rogers\n",
      "ID number: 81774\n",
      "department: Manufacturing\n",
      "job title: Engineer\n",
      "\n"
     ]
    }
   ],
   "source": [
    "class Employee:\n",
    "    # constructor\n",
    "    def __init__(self,name,ID,dept,job):\n",
    "        self.__name = name\n",
    "        self.__ID = ID\n",
    "        self.__dept = dept\n",
    "        self.__job = job\n",
    "    # setters     \n",
    "    def set_name(self, name):\n",
    "        self.__name = name\n",
    "    \n",
    "    def set_ID(self, ID):\n",
    "        self.__ID = ID\n",
    "        \n",
    "    def set_dept(self, dept):\n",
    "        self.__dept = dept\n",
    "        \n",
    "    def set_job(self, job):\n",
    "        self.__job = job\n",
    "    # getters     \n",
    "    def get_name(self):\n",
    "        return self.__name\n",
    "    \n",
    "    def get_ID(self):\n",
    "        return self.__ID \n",
    "        \n",
    "    def get_dept(self):\n",
    "        return self.__dept \n",
    "        \n",
    "    def get_job(self):\n",
    "        return self.__job\n",
    "    # display all the info of the object  \n",
    "    def display_data(self):\n",
    "        print(f'employee name: {self.__name}')\n",
    "        print(f'ID number: {self.__ID}')\n",
    "        print(f'department: {self.__dept}')\n",
    "        print(f'job title: {self.__job}')\n",
    "        print()\n",
    "        \n",
    "    \n",
    "        \n",
    "        \n",
    "        \n",
    "        \n",
    "# we are constresting 3 diffrent objects the info given from the question\n",
    "e1 = Employee(\"Susan Meyers\", 47899,\"Accounting\",\"Vice President\")\n",
    "\n",
    "e2 = Employee(\"Mark Jones\", 39119, \"IT\", \"Programmer\")\n",
    "\n",
    "e3 = Employee(\"Joy Rogers\", 81774, \"Manufacturing\", \"Engineer\")\n",
    "# display data \n",
    "e1.display_data()\n",
    "\n",
    "e2.display_data()\n",
    "\n",
    "e3.display_data()\n",
    "\n"
   ]
  },
  {
   "cell_type": "markdown",
   "id": "f80cbcb7",
   "metadata": {},
   "source": [
    "# 1. Pet Class\n",
    "### Write a class named Pet, which should have the following data attributes:   (for the name of a pet) (for the type of animal that a pet is. Example values are ‘Dog’, ‘Cat’,and ‘Bird’) (for the pet’s age)The  class should have an  method that creates these attributes "
   ]
  },
  {
   "cell_type": "code",
   "execution_count": 21,
   "id": "1463b56f",
   "metadata": {},
   "outputs": [
    {
     "name": "stdout",
     "output_type": "stream",
     "text": [
      "please enter a name: bob\n",
      "please enter a type of animal: cat\n",
      "please enter an age: 2\n",
      "the pets name is bob\n",
      "the animal type is cat\n",
      "the pets age is 2\n"
     ]
    }
   ],
   "source": [
    "class Pet:\n",
    "    # constructor\n",
    "    def __init__(self):\n",
    "        self.__name = ''\n",
    "        self.__animal_type = \"\"\n",
    "        self.__age = 0\n",
    "        \n",
    "     # setters, set the data  \n",
    "    def set_name(self, name):\n",
    "        self.__name = name\n",
    "    \n",
    "    def set_animal_type(self, animal_type):\n",
    "        self.__animal_type = animal_type\n",
    "        \n",
    "    def set_age(self, age):\n",
    "        self.__age = age\n",
    "        \n",
    "     #getters, get the data \n",
    "    def get_name(self):\n",
    "        return self.__name\n",
    "    \n",
    "    def get_animal_type(self):\n",
    "        return self.__animal_type \n",
    "        \n",
    "    def get_age(self):\n",
    "        return self.__age \n",
    "# user input     \n",
    "name = input(\"please enter a name: \")\n",
    "animal_type = input(\"please enter a type of animal: \")\n",
    "age = input(\"please enter an age: \")\n",
    "# set into object \n",
    "pet = Pet()\n",
    "pet.set_name(name)\n",
    "pet.set_animal_type(animal_type)\n",
    "pet.set_age(age)\n",
    "# retrieve from object to print \n",
    "print(f\"the pets name is {pet.get_name()}\")\n",
    "print(f\"the animal type is {pet.get_animal_type()}\")\n",
    "print(f\"the pets age is {pet.get_age()}\")"
   ]
  },
  {
   "cell_type": "code",
   "execution_count": null,
   "id": "32a06e61",
   "metadata": {},
   "outputs": [],
   "source": []
  }
 ],
 "metadata": {
  "kernelspec": {
   "display_name": "Python 3 (ipykernel)",
   "language": "python",
   "name": "python3"
  },
  "language_info": {
   "codemirror_mode": {
    "name": "ipython",
    "version": 3
   },
   "file_extension": ".py",
   "mimetype": "text/x-python",
   "name": "python",
   "nbconvert_exporter": "python",
   "pygments_lexer": "ipython3",
   "version": "3.11.4"
  }
 },
 "nbformat": 4,
 "nbformat_minor": 5
}
