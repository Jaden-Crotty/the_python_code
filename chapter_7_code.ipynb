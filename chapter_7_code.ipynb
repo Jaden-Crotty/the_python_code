{
 "cells": [
  {
   "cell_type": "markdown",
   "id": "57a792b2",
   "metadata": {},
   "source": [
    "# Algorithm Workbench\n",
    "### # 1 \n",
    "### Write a statement that creates a list with the following strings:'Einstein', 'Newton', 'Copernicus', 'Kepler'"
   ]
  },
  {
   "cell_type": "code",
   "execution_count": 1,
   "id": "6a927bb8",
   "metadata": {},
   "outputs": [
    {
     "name": "stdout",
     "output_type": "stream",
     "text": [
      "Einstein\n",
      "Newton\n",
      "Copernicus\n",
      "Kepler\n"
     ]
    }
   ],
   "source": [
    "# scientist is the list name and assign the names to the list \n",
    "scientists = ['Einstein', 'Newton', 'Copernicus', 'Kepler']\n",
    "\n",
    "# Access and print names\n",
    "print(scientists[0])  \n",
    "print(scientists[1])  \n",
    "print(scientists[2])\n",
    "print(scientists[3])"
   ]
  },
  {
   "cell_type": "markdown",
   "id": "7cb8ab7d",
   "metadata": {},
   "source": [
    "### # 2\n",
    "### Assume names references a list. Write a  loop that displays each element of the list."
   ]
  },
  {
   "cell_type": "code",
   "execution_count": 12,
   "id": "47919940",
   "metadata": {},
   "outputs": [
    {
     "name": "stdout",
     "output_type": "stream",
     "text": [
      "chris\n",
      "nick\n",
      "emily\n",
      "taylor\n"
     ]
    }
   ],
   "source": [
    "# names is the name of the list of names \n",
    "names = ['chris', 'nick', 'emily', 'taylor']\n",
    "# for name in names: is to set up the loop for the names to print \n",
    "for name in names:\n",
    "    print(name)"
   ]
  },
  {
   "cell_type": "code",
   "execution_count": null,
   "id": "cf4213f2",
   "metadata": {},
   "outputs": [],
   "source": []
  }
 ],
 "metadata": {
  "kernelspec": {
   "display_name": "Python 3 (ipykernel)",
   "language": "python",
   "name": "python3"
  },
  "language_info": {
   "codemirror_mode": {
    "name": "ipython",
    "version": 3
   },
   "file_extension": ".py",
   "mimetype": "text/x-python",
   "name": "python",
   "nbconvert_exporter": "python",
   "pygments_lexer": "ipython3",
   "version": "3.11.4"
  }
 },
 "nbformat": 4,
 "nbformat_minor": 5
}
