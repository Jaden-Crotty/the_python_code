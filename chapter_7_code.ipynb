{
 "cells": [
  {
   "cell_type": "markdown",
   "id": "7f567101",
   "metadata": {},
   "source": [
    "# Algorithm Workbench\n",
    "### # 1 \n",
    "### Write a statement that creates a list with the following strings:'Einstein', 'Newton', 'Copernicus', 'Kepler'"
   ]
  },
  {
   "cell_type": "code",
   "execution_count": 1,
   "id": "f573827f",
   "metadata": {},
   "outputs": [
    {
     "name": "stdout",
     "output_type": "stream",
     "text": [
      "Einstein\n",
      "Newton\n",
      "Copernicus\n",
      "Kepler\n"
     ]
    }
   ],
   "source": [
    "# scientist is the list name and assign the names to the list \n",
    "scientists = ['Einstein', 'Newton', 'Copernicus', 'Kepler']\n",
    "\n",
    "# Access and print names\n",
    "print(scientists[0])  \n",
    "print(scientists[1])  \n",
    "print(scientists[2])\n",
    "print(scientists[3])"
   ]
  },
  {
   "cell_type": "markdown",
   "id": "3f8bf1eb",
   "metadata": {},
   "source": [
    "### # 2\n",
    "### Assume names references a list. Write a  loop that displays each element of the list."
   ]
  },
  {
   "cell_type": "code",
   "execution_count": 12,
   "id": "18dbfbbf",
   "metadata": {},
   "outputs": [
    {
     "name": "stdout",
     "output_type": "stream",
     "text": [
      "chris\n",
      "nick\n",
      "emily\n",
      "taylor\n"
     ]
    }
   ],
   "source": [
    "# names is the name of the list of names \n",
    "names = ['chris', 'nick', 'emily', 'taylor']\n",
    "# for name in names: is to set up the loop for the names to print \n",
    "for name in names:\n",
    "    print(name)"
   ]
  },
  {
   "cell_type": "markdown",
   "id": "ee8663fa",
   "metadata": {},
   "source": [
    "# Programming Exercises"
   ]
  },
  {
   "cell_type": "markdown",
   "id": "6b421370",
   "metadata": {},
   "source": [
    "### 1. Total Sales\n",
    "#### Design a program that asks the user to enter a store’s sales for each day of the week. The amounts should be stored in a list. Use a loop to calculate the total sales for the week and display the result."
   ]
  },
  {
   "cell_type": "code",
   "execution_count": 17,
   "id": "66a7e387",
   "metadata": {},
   "outputs": [
    {
     "name": "stdout",
     "output_type": "stream",
     "text": [
      "please enter the slaes for monday: 2.1\n",
      "please enter the slaes for tuesday: 4\n",
      "please enter the slaes for wednesday: 4\n",
      "please enter the slaes for thusday: 10\n",
      "please enter the slaes for friday: 10\n",
      "please enter the slaes for saturday: 10\n",
      "please enter the slaes for sunday: 10\n",
      "the sum is 50.1\n"
     ]
    }
   ],
   "source": [
    "sum = 0 \n",
    "sales_list = [0, 0, 0, 0, 0, 0, 0]\n",
    "sales_list[0] = float(input(\"please enter the slaes for monday: \"))\n",
    "sales_list[1] = float(input(\"please enter the slaes for tuesday: \"))\n",
    "sales_list[2] = float(input(\"please enter the slaes for wednesday: \"))\n",
    "sales_list[3] = float(input(\"please enter the slaes for thusday: \"))\n",
    "sales_list[4] = float(input(\"please enter the slaes for friday: \"))\n",
    "sales_list[5] = float(input(\"please enter the slaes for saturday: \"))\n",
    "sales_list[6] = float(input(\"please enter the slaes for sunday: \"))\n",
    "\n",
    "for sales in sales_list:\n",
    "    sum += sales\n",
    "    \n",
    "print(f\"the sum is {sum}\")"
   ]
  },
  {
   "cell_type": "markdown",
   "id": "efcf4f52",
   "metadata": {},
   "source": []
  }
 ],
 "metadata": {
  "kernelspec": {
   "display_name": "Python 3 (ipykernel)",
   "language": "python",
   "name": "python3"
  },
  "language_info": {
   "codemirror_mode": {
    "name": "ipython",
    "version": 3
   },
   "file_extension": ".py",
   "mimetype": "text/x-python",
   "name": "python",
   "nbconvert_exporter": "python",
   "pygments_lexer": "ipython3",
   "version": "3.11.4"
  }
 },
 "nbformat": 4,
 "nbformat_minor": 5
}
