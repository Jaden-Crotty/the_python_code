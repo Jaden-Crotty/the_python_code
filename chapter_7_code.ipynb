{
 "cells": [
  {
   "cell_type": "markdown",
   "id": "279a2a96",
   "metadata": {},
   "source": [
    "# Algorithm Workbench\n",
    "### # 1 \n",
    "### Write a statement that creates a list with the following strings:'Einstein', 'Newton', 'Copernicus', 'Kepler'"
   ]
  },
  {
   "cell_type": "code",
   "execution_count": 1,
   "id": "cf9776c8",
   "metadata": {},
   "outputs": [
    {
     "name": "stdout",
     "output_type": "stream",
     "text": [
      "Einstein\n",
      "Newton\n",
      "Copernicus\n",
      "Kepler\n"
     ]
    }
   ],
   "source": [
    "# scientist is the list name and assign the names to the list \n",
    "scientists = ['Einstein', 'Newton', 'Copernicus', 'Kepler']\n",
    "\n",
    "# Access and print names\n",
    "print(scientists[0])  \n",
    "print(scientists[1])  \n",
    "print(scientists[2])\n",
    "print(scientists[3])"
   ]
  },
  {
   "cell_type": "markdown",
   "id": "bc7657d2",
   "metadata": {},
   "source": [
    "### # 2\n",
    "### Assume names references a list. Write a  loop that displays each element of the list."
   ]
  },
  {
   "cell_type": "code",
   "execution_count": 12,
   "id": "84ba583c",
   "metadata": {},
   "outputs": [
    {
     "name": "stdout",
     "output_type": "stream",
     "text": [
      "chris\n",
      "nick\n",
      "emily\n",
      "taylor\n"
     ]
    }
   ],
   "source": [
    "# names is the name of the list of names \n",
    "names = ['chris', 'nick', 'emily', 'taylor']\n",
    "# for name in names: is to set up the loop for the names to print \n",
    "for name in names:\n",
    "    print(name)"
   ]
  },
  {
   "cell_type": "markdown",
   "id": "e6e06982",
   "metadata": {},
   "source": [
    "# Programming Exercises"
   ]
  },
  {
   "cell_type": "markdown",
   "id": "d21bfd52",
   "metadata": {},
   "source": [
    "### 1. Total Sales\n",
    "#### Design a program that asks the user to enter a store’s sales for each day of the week. The amounts should be stored in a list. Use a loop to calculate the total sales for the week and display the result."
   ]
  },
  {
   "cell_type": "code",
   "execution_count": 26,
   "id": "c8cb44e9",
   "metadata": {},
   "outputs": [
    {
     "name": "stdout",
     "output_type": "stream",
     "text": [
      "please enter the slaes for monday: 5\n",
      "please enter the slaes for tuesday: 4\n",
      "please enter the slaes for wednesday: 6\n",
      "please enter the slaes for thusday: 4\n",
      "please enter the slaes for friday: 5\n",
      "please enter the slaes for saturday: 6\n",
      "please enter the slaes for sunday: 5\n"
     ]
    },
    {
     "ename": "TypeError",
     "evalue": "'float' object is not callable",
     "output_type": "error",
     "traceback": [
      "\u001b[1;31m---------------------------------------------------------------------------\u001b[0m",
      "\u001b[1;31mTypeError\u001b[0m                                 Traceback (most recent call last)",
      "Cell \u001b[1;32mIn[26], line 15\u001b[0m\n\u001b[0;32m     11\u001b[0m \u001b[38;5;28;01mfor\u001b[39;00m sales \u001b[38;5;129;01min\u001b[39;00m sales_list:\n\u001b[0;32m     12\u001b[0m     \u001b[38;5;28msum\u001b[39m \u001b[38;5;241m+\u001b[39m\u001b[38;5;241m=\u001b[39m sales\n\u001b[1;32m---> 15\u001b[0m \u001b[38;5;28mprint\u001b[39m(\u001b[38;5;28msum\u001b[39m(sales_list))\n\u001b[0;32m     17\u001b[0m \u001b[38;5;28mprint\u001b[39m(\u001b[38;5;124mf\u001b[39m\u001b[38;5;124m\"\u001b[39m\u001b[38;5;124mthe sum is \u001b[39m\u001b[38;5;132;01m{\u001b[39;00m\u001b[38;5;28msum\u001b[39m\u001b[38;5;132;01m}\u001b[39;00m\u001b[38;5;124m\"\u001b[39m)\n",
      "\u001b[1;31mTypeError\u001b[0m: 'float' object is not callable"
     ]
    }
   ],
   "source": [
    "sum = 0 \n",
    "sales_list = [0, 0, 0, 0, 0, 0, 0]\n",
    "sales_list[0] = float(input(\"please enter the slaes for monday: \"))\n",
    "sales_list[1] = float(input(\"please enter the slaes for tuesday: \"))\n",
    "sales_list[2] = float(input(\"please enter the slaes for wednesday: \"))\n",
    "sales_list[3] = float(input(\"please enter the slaes for thusday: \"))\n",
    "sales_list[4] = float(input(\"please enter the slaes for friday: \"))\n",
    "sales_list[5] = float(input(\"please enter the slaes for saturday: \"))\n",
    "sales_list[6] = float(input(\"please enter the slaes for sunday: \"))\n",
    "\n",
    "for sales in sales_list:\n",
    "    sum += sales\n",
    "    \n",
    "print(f\"the sum is {sum}\")"
   ]
  },
  {
   "cell_type": "markdown",
   "id": "c3b2f695",
   "metadata": {},
   "source": [
    "# Expense Pie Chart\n",
    "### Write a Python program that reads the data from the file and uses matplotlib to plot a pie chart showing how you spend your money."
   ]
  },
  {
   "cell_type": "code",
   "execution_count": 30,
   "id": "519ce75a",
   "metadata": {},
   "outputs": [
    {
     "data": {
      "text/plain": [
       "([<matplotlib.patches.Wedge at 0x26017091e50>,\n",
       "  <matplotlib.patches.Wedge at 0x2600f4e7710>,\n",
       "  <matplotlib.patches.Wedge at 0x2600fd71490>,\n",
       "  <matplotlib.patches.Wedge at 0x2600fd72c90>,\n",
       "  <matplotlib.patches.Wedge at 0x2600fd73150>,\n",
       "  <matplotlib.patches.Wedge at 0x2600fd67cd0>,\n",
       "  <matplotlib.patches.Wedge at 0x2600fd652d0>],\n",
       " [Text(1.0740128302675844, 0.23768979873064167, 'Rent'),\n",
       "  Text(0.14117914106173773, 1.0909025850776366, 'Gas'),\n",
       "  Text(-1.0217353580787916, 0.4075007460749044, 'Food'),\n",
       "  Text(-1.0928787215088287, -0.12496439522211095, 'Clothing'),\n",
       "  Text(-0.7880165289158787, -0.7674828663594845, 'Car'),\n",
       "  Text(0.5336786048300189, -0.9618664911237341, 'payment'),\n",
       "  Text(1.092246771877805, -0.13037250217171661, 'Misc')])"
      ]
     },
     "execution_count": 30,
     "metadata": {},
     "output_type": "execute_result"
    },
    {
     "data": {
      "image/png": "[encoded data removed]",
      "text/plain": [
       "<Figure size 640x480 with 1 Axes>"
      ]
     },
     "metadata": {},
     "output_type": "display_data"
    }
   ],
   "source": [
    "# input matplotlib as plit is a short hand for the library\n",
    "import matplotlib.pyplot as plt\n",
    "# set up the lables\n",
    "labels = 'Rent', 'Gas', 'Food', 'Clothing', 'Car', 'payment', 'Misc'\n",
    "# set up the data list \n",
    "money = [1, 1, 1, 1, 1, 1, 1]\n",
    "# open the file in read \n",
    "file = open(\"chapter 7.txt\", \"r\" )\n",
    "# to loop 7 times\n",
    "for I in range(0,7):\n",
    "    # to read one line from file then dumb into correct spot of the list \n",
    "    money[I] = float(file.readline())\n",
    "file.close()\n",
    "    \n",
    "\n",
    "\n",
    "# this part plots the pie chart and plots it\n",
    "fig, ax = plt.subplots()\n",
    "ax.pie(money, labels = labels)"
   ]
  },
  {
   "cell_type": "markdown",
   "id": "2eaa56f2",
   "metadata": {},
   "source": [
    "# 2. Lottery Number Generator\n",
    "##### Design a program that generates a seven-digit lottery number. The program should generate seven random numbers, each in the range of 0 through 9, and assign each number to a list element. (Random numbers were discussed in Chapter 5.) Then write another loop that displays the contents of the list."
   ]
  },
  {
   "cell_type": "code",
   "execution_count": 38,
   "id": "6cb54d50",
   "metadata": {},
   "outputs": [
    {
     "name": "stdout",
     "output_type": "stream",
     "text": [
      "1\n",
      "0\n",
      "7\n",
      "1\n",
      "1\n",
      "1\n",
      "7\n"
     ]
    }
   ],
   "source": [
    "import random\n",
    "random_number = [0, 0, 0, 0, 0, 0, 0]\n",
    "# looping through the list not random part \n",
    "for I in range(0,7):\n",
    "    # this genartes the random number 0,9 \n",
    "    random_number[I] = random.randint(0,9)\n",
    "# this is the loop that will display the number \n",
    "# to print random lottery number \n",
    "for I in random_number:\n",
    "    print(I)"
   ]
  },
  {
   "cell_type": "markdown",
   "id": "f8787f2a",
   "metadata": {},
   "source": [
    "# 6. Larger Than n\n",
    "#### In a program, write a function that accepts two arguments: a list, and a number n. Assume that the list contains numbers. The function should display all of the numbers in the list that are greater than the number n."
   ]
  },
  {
   "cell_type": "code",
   "execution_count": 49,
   "id": "cc64890e",
   "metadata": {},
   "outputs": [
    {
     "name": "stdout",
     "output_type": "stream",
     "text": [
      "4\n",
      "7\n",
      "13\n",
      "1096\n",
      "2040\n"
     ]
    }
   ],
   "source": [
    "# this is a function \n",
    "def larger_than_n(nums,n):\n",
    "    #loop through the list of numbers \n",
    "    for I in nums:\n",
    "        # check if any are larger than n \n",
    "        if I > n:\n",
    "            print(I)\n",
    "\n",
    "larger_than_n([2,3,4],3)\n",
    "larger_than_n([4,7,13],6)\n",
    "larger_than_n([139,710,1096,2040],930)"
   ]
  },
  {
   "cell_type": "code",
   "execution_count": null,
   "id": "30546ec8",
   "metadata": {},
   "outputs": [],
   "source": []
  }
 ],
 "metadata": {
  "kernelspec": {
   "display_name": "Python 3 (ipykernel)",
   "language": "python",
   "name": "python3"
  },
  "language_info": {
   "codemirror_mode": {
    "name": "ipython",
    "version": 3
   },
   "file_extension": ".py",
   "mimetype": "text/x-python",
   "name": "python",
   "nbconvert_exporter": "python",
   "pygments_lexer": "ipython3",
   "version": "3.11.4"
  }
 },
 "nbformat": 4,
 "nbformat_minor": 5
}
