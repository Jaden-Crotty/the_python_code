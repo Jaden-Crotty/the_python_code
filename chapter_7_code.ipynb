{
 "cells": [
  {
   "cell_type": "markdown",
   "id": "30b411e1",
   "metadata": {},
   "source": [
    "# Algorithm Workbench\n",
    "### # 1 "
   ]
  },
  {
   "cell_type": "code",
   "execution_count": 1,
   "id": "d94ee996",
   "metadata": {},
   "outputs": [
    {
     "name": "stdout",
     "output_type": "stream",
     "text": [
      "Einstein\n",
      "Newton\n",
      "Copernicus\n",
      "Kepler\n"
     ]
    }
   ],
   "source": [
    "# scientist is the list name and assign the names to the list \n",
    "scientists = ['Einstein', 'Newton', 'Copernicus', 'Kepler']\n",
    "\n",
    "# Access and print names\n",
    "print(scientists[0])  \n",
    "print(scientists[1])  \n",
    "print(scientists[2])\n",
    "print(scientists[3])"
   ]
  },
  {
   "cell_type": "code",
   "execution_count": null,
   "id": "600d8e53",
   "metadata": {},
   "outputs": [],
   "source": []
  }
 ],
 "metadata": {
  "kernelspec": {
   "display_name": "Python 3 (ipykernel)",
   "language": "python",
   "name": "python3"
  },
  "language_info": {
   "codemirror_mode": {
    "name": "ipython",
    "version": 3
   },
   "file_extension": ".py",
   "mimetype": "text/x-python",
   "name": "python",
   "nbconvert_exporter": "python",
   "pygments_lexer": "ipython3",
   "version": "3.11.4"
  }
 },
 "nbformat": 4,
 "nbformat_minor": 5
}
