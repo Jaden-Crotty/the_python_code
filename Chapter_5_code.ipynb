{
 "cells": [
  {
   "cell_type": "code",
   "execution_count": 1,
   "id": "6441f65c",
   "metadata": {},
   "outputs": [],
   "source": [
    "# Write a function named Times_ten.\n",
    "# The function should accept an argument and display the product of its argument multiplied times 10\n",
    "# first we need to define the function \n",
    "def times_ten(argument):\n",
    "    # this part times the argument by 10 and prints result\n",
    "    result = argument * 10\n",
    "    print(result)"
   ]
  },
  {
   "cell_type": "code",
   "execution_count": null,
   "id": "ae93dd82",
   "metadata": {},
   "outputs": [],
   "source": []
  }
 ],
 "metadata": {
  "kernelspec": {
   "display_name": "Python 3 (ipykernel)",
   "language": "python",
   "name": "python3"
  },
  "language_info": {
   "codemirror_mode": {
    "name": "ipython",
    "version": 3
   },
   "file_extension": ".py",
   "mimetype": "text/x-python",
   "name": "python",
   "nbconvert_exporter": "python",
   "pygments_lexer": "ipython3",
   "version": "3.11.4"
  }
 },
 "nbformat": 4,
 "nbformat_minor": 5
}
