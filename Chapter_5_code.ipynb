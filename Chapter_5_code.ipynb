{
 "cells": [
  {
   "cell_type": "markdown",
   "id": "35e84e46",
   "metadata": {},
   "source": [
    "# Algorithm workbench\n",
    "### question 1 "
   ]
  },
  {
   "cell_type": "code",
   "execution_count": null,
   "id": "6c542696",
   "metadata": {},
   "outputs": [],
   "source": [
    "# Write a function named Times_ten.\n",
    "# The function should accept an argument and display the product of its argument multiplied times 10\n",
    "# first we need to define the function \n",
    "def times_ten(argument):\n",
    "    # this part times the argument by 10 and prints result\n",
    "    result = argument * 10\n",
    "    print(result)"
   ]
  },
  {
   "cell_type": "code",
   "execution_count": 3,
   "id": "e8d08e15",
   "metadata": {},
   "outputs": [
    {
     "name": "stdout",
     "output_type": "stream",
     "text": [
      "Hello worldHello worldHello worldHello worldHello worldHello worldHello worldHello worldHello worldHello world\n"
     ]
    }
   ],
   "source": [
    "times_ten('Hello world')"
   ]
  },
  {
   "cell_type": "code",
   "execution_count": 4,
   "id": "23c8fb7f",
   "metadata": {},
   "outputs": [
    {
     "name": "stdout",
     "output_type": "stream",
     "text": [
      "Hello world Hello world Hello world Hello world Hello world Hello world Hello world Hello world Hello world Hello world \n"
     ]
    }
   ],
   "source": [
    "times_ten(\"Hello world \")"
   ]
  },
  {
   "cell_type": "code",
   "execution_count": 5,
   "id": "1c2c851c",
   "metadata": {},
   "outputs": [
    {
     "name": "stdout",
     "output_type": "stream",
     "text": [
      "Hello World, Hello World, Hello World, Hello World, Hello World, Hello World, Hello World, Hello World, Hello World, Hello World, \n"
     ]
    }
   ],
   "source": [
    "times_ten(\"Hello World, \")"
   ]
  },
  {
   "cell_type": "markdown",
   "id": "2ad3179d",
   "metadata": {},
   "source": [
    "# question 10"
   ]
  },
  {
   "cell_type": "markdown",
   "id": "378f1bbe",
   "metadata": {},
   "source": [
    "### Write a function named get_first_name that asks the user to enter his or her first name, and returns it."
   ]
  },
  {
   "cell_type": "code",
   "execution_count": 16,
   "id": "75b02e06",
   "metadata": {},
   "outputs": [],
   "source": [
    "#first we need to define the function \n",
    "def get_first_name():\n",
    "    # then we need to add a input function and return function \n",
    "    first_name = input(\"enter your name: \")\n",
    "    return first_name"
   ]
  },
  {
   "cell_type": "code",
   "execution_count": 19,
   "id": "495d8ead",
   "metadata": {},
   "outputs": [
    {
     "name": "stdout",
     "output_type": "stream",
     "text": [
      "enter your name: Jaden\n",
      "Jaden\n",
      "enter your name: tom\n",
      "tom\n"
     ]
    }
   ],
   "source": [
    "# call function and capuring the return in a varable \n",
    "first_name = get_first_name()\n",
    "print(first_name)"
   ]
  },
  {
   "cell_type": "markdown",
   "id": "4edf75e8",
   "metadata": {},
   "source": [
    "# Programming exerices "
   ]
  },
  {
   "cell_type": "markdown",
   "id": "c0717cf4",
   "metadata": {},
   "source": [
    "## Kilometer converter"
   ]
  },
  {
   "cell_type": "code",
   "execution_count": 23,
   "id": "6397708f",
   "metadata": {},
   "outputs": [],
   "source": [
    "def Km_M(Km):\n",
    "    M = Km * .6214\n",
    "    return M"
   ]
  },
  {
   "cell_type": "code",
   "execution_count": 22,
   "id": "953ed786",
   "metadata": {},
   "outputs": [
    {
     "name": "stdout",
     "output_type": "stream",
     "text": [
      "enter a distances in Kilometers20\n",
      "the miles is 12.427999999999999\n"
     ]
    }
   ],
   "source": [
    "Km = float(input('enter a distances in Kilometers'))\n",
    "M = Km_M(Km)\n",
    "print(f'the miles is {M}')"
   ]
  },
  {
   "cell_type": "code",
   "execution_count": 21,
   "id": "a4a66c55",
   "metadata": {},
   "outputs": [],
   "source": [
    "def Km_M(Km):\n",
    "    M = Km * .6214\n",
    "    return M"
   ]
  },
  {
   "cell_type": "code",
   "execution_count": 24,
   "id": "f4b30e87",
   "metadata": {},
   "outputs": [
    {
     "name": "stdout",
     "output_type": "stream",
     "text": [
      "enter a distances in Kilometers50\n",
      "the miles is 31.069999999999997\n"
     ]
    }
   ],
   "source": [
    "Km = float(input('enter a distances in Kilometers'))\n",
    "M = Km_M(Km)\n",
    "print(f'the miles is {M}')"
   ]
  },
  {
   "cell_type": "markdown",
   "id": "f8f28d92",
   "metadata": {},
   "source": [
    "# "
   ]
  }
 ],
 "metadata": {
  "kernelspec": {
   "display_name": "Python 3 (ipykernel)",
   "language": "python",
   "name": "python3"
  },
  "language_info": {
   "codemirror_mode": {
    "name": "ipython",
    "version": 3
   },
   "file_extension": ".py",
   "mimetype": "text/x-python",
   "name": "python",
   "nbconvert_exporter": "python",
   "pygments_lexer": "ipython3",
   "version": "3.11.4"
  }
 },
 "nbformat": 4,
 "nbformat_minor": 5
}
