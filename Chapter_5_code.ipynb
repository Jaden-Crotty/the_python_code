{
 "cells": [
  {
   "cell_type": "markdown",
   "id": "d7211b10",
   "metadata": {},
   "source": [
    "# Algorithm workbench\n",
    "### question 1 "
   ]
  },
  {
   "cell_type": "code",
   "execution_count": null,
   "id": "c18fc468",
   "metadata": {},
   "outputs": [],
   "source": [
    "# Write a function named Times_ten.\n",
    "# The function should accept an argument and display the product of its argument multiplied times 10\n",
    "# first we need to define the function \n",
    "def times_ten(argument):\n",
    "    # this part times the argument by 10 and prints result\n",
    "    result = argument * 10\n",
    "    print(result)"
   ]
  },
  {
   "cell_type": "code",
   "execution_count": 3,
   "id": "6ffe11a8",
   "metadata": {},
   "outputs": [
    {
     "name": "stdout",
     "output_type": "stream",
     "text": [
      "Hello worldHello worldHello worldHello worldHello worldHello worldHello worldHello worldHello worldHello world\n"
     ]
    }
   ],
   "source": [
    "times_ten('Hello world')"
   ]
  },
  {
   "cell_type": "code",
   "execution_count": 4,
   "id": "c234b8fe",
   "metadata": {},
   "outputs": [
    {
     "name": "stdout",
     "output_type": "stream",
     "text": [
      "Hello world Hello world Hello world Hello world Hello world Hello world Hello world Hello world Hello world Hello world \n"
     ]
    }
   ],
   "source": [
    "times_ten(\"Hello world \")"
   ]
  },
  {
   "cell_type": "code",
   "execution_count": 5,
   "id": "7bbcee4e",
   "metadata": {},
   "outputs": [
    {
     "name": "stdout",
     "output_type": "stream",
     "text": [
      "Hello World, Hello World, Hello World, Hello World, Hello World, Hello World, Hello World, Hello World, Hello World, Hello World, \n"
     ]
    }
   ],
   "source": [
    "times_ten(\"Hello World, \")"
   ]
  },
  {
   "cell_type": "markdown",
   "id": "24010d91",
   "metadata": {},
   "source": [
    "# question 10"
   ]
  },
  {
   "cell_type": "markdown",
   "id": "386f1f36",
   "metadata": {},
   "source": [
    "### Write a function named get_first_name that asks the user to enter his or her first name, and returns it."
   ]
  },
  {
   "cell_type": "code",
   "execution_count": 16,
   "id": "f768f70b",
   "metadata": {},
   "outputs": [],
   "source": [
    "#first we need to define the function \n",
    "def get_first_name():\n",
    "    # then we need to add a input function and return function \n",
    "    first_name = input(\"enter your name: \")\n",
    "    return first_name"
   ]
  },
  {
   "cell_type": "code",
   "execution_count": 19,
   "id": "34531edb",
   "metadata": {},
   "outputs": [
    {
     "name": "stdout",
     "output_type": "stream",
     "text": [
      "enter your name: Jaden\n",
      "Jaden\n",
      "enter your name: tom\n",
      "tom\n"
     ]
    }
   ],
   "source": [
    "# call function and capuring the return in a varable \n",
    "first_name = get_first_name()\n",
    "print(first_name)"
   ]
  },
  {
   "cell_type": "code",
   "execution_count": null,
   "id": "4c26093b",
   "metadata": {},
   "outputs": [],
   "source": []
  }
 ],
 "metadata": {
  "kernelspec": {
   "display_name": "Python 3 (ipykernel)",
   "language": "python",
   "name": "python3"
  },
  "language_info": {
   "codemirror_mode": {
    "name": "ipython",
    "version": 3
   },
   "file_extension": ".py",
   "mimetype": "text/x-python",
   "name": "python",
   "nbconvert_exporter": "python",
   "pygments_lexer": "ipython3",
   "version": "3.11.4"
  }
 },
 "nbformat": 4,
 "nbformat_minor": 5
}
