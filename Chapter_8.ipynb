{
 "cells": [
  {
   "cell_type": "markdown",
   "id": "a264b68d",
   "metadata": {},
   "source": [
    "# Algorithm Workbench"
   ]
  },
  {
   "cell_type": "markdown",
   "id": "04589309",
   "metadata": {},
   "source": [
    "# #1\n",
    "### Assume  references a string. The following  statement determines whether is equal to ‘Y’ or ‘y’:"
   ]
  },
  {
   "cell_type": "code",
   "execution_count": 13,
   "id": "b7b14aab",
   "metadata": {},
   "outputs": [
    {
     "name": "stdout",
     "output_type": "stream",
     "text": [
      "please enter a choosejaden\n",
      "JADEN\n"
     ]
    }
   ],
   "source": [
    "# take a user choose \n",
    "choice = input('please enter a choose')\n",
    "if choice.upper() == 'Y':\n",
    "    print(\"this is a Yes\")\n",
    "print(choice.upper())"
   ]
  },
  {
   "cell_type": "code",
   "execution_count": 11,
   "id": "9378feae",
   "metadata": {},
   "outputs": [
    {
     "name": "stdout",
     "output_type": "stream",
     "text": [
      "please enter a chooseN\n"
     ]
    }
   ],
   "source": [
    "choice = input('please enter a choose')\n",
    "if choice.upper() == 'Y':\n",
    "    print(\"this is a Yes\")"
   ]
  },
  {
   "cell_type": "markdown",
   "id": "9d612ec0",
   "metadata": {},
   "source": [
    "# 8 \n",
    "### Assume mystring references a string. Write a statement that uses a slicing expression and displays the first 3 characters in the string."
   ]
  },
  {
   "cell_type": "code",
   "execution_count": 17,
   "id": "6479195b",
   "metadata": {},
   "outputs": [
    {
     "name": "stdout",
     "output_type": "stream",
     "text": [
      "exp\n"
     ]
    }
   ],
   "source": [
    "# mystring dumby value\n",
    "mystring = 'exploding kittens'\n",
    "# this is the slicing for the first charactor up to 3 \n",
    "my_slice = mystring[0:3]\n",
    "print(my_slice)"
   ]
  },
  {
   "cell_type": "markdown",
   "id": "f76d8650",
   "metadata": {},
   "source": [
    "# Programming Exercises\n",
    "## # 1  Initials\n",
    "#### Write a program that gets a string containing a person’s first, middle, and last names, and displays their first, middle, and last initials. For example, if the user enters John William Smith, the program should display J. W. S."
   ]
  },
  {
   "cell_type": "code",
   "execution_count": 19,
   "id": "04d8bd2f",
   "metadata": {},
   "outputs": [
    {
     "name": "stdout",
     "output_type": "stream",
     "text": [
      "please enter first, middle, and last name John William Smith\n",
      "J\n",
      "W\n",
      "S\n"
     ]
    }
   ],
   "source": [
    "names = input(\"please enter first, middle, and last name \")\n",
    "# split names in to a list \n",
    "split_names = names.split()\n",
    "# loop through the split list \n",
    "for name in split_names:\n",
    "    # for the first character \n",
    "     print(name[0])"
   ]
  },
  {
   "cell_type": "markdown",
   "id": "e080670d",
   "metadata": {},
   "source": [
    "# 9. Vowels and Consonants\n",
    "#### Write a program with a function that accepts a string as an argument and returns the number of vowels that the string contains. The application should have another function that accepts a string as an argument and returns the number of consonants that the string contains. The application should let the user enter a string, and should display the number of vowels and the number of consonants it contains."
   ]
  },
  {
   "cell_type": "code",
   "execution_count": null,
   "id": "d8ed0d79",
   "metadata": {},
   "outputs": [],
   "source": [
    "# Write a program with a function that accepts a string as an argument and returns the number of vowels that the string contains.\n",
    "def num_vowels(my_string):\n",
    "    vowel_count = 0\n",
    "    # loop through the string one character at a time \n",
    "    for ch in my_string:\n",
    "        # to acount for upper and lower case letters \n",
    "        upper_ch = ch.upper()\n",
    "        # compare to the vowel characters we are testing for \n",
    "        if upper_ch == \"A\" or upper_ch == \"E\" or upper_ch == \"I\" or upper_ch == \"O\" or upper_ch == \"U\":\n",
    "            vowel_count += 1\n",
    "    return vowel_count\n",
    "\n",
    "print(num_vowels('aarvdarks eat grapes outside'))"
   ]
  }
 ],
 "metadata": {
  "kernelspec": {
   "display_name": "Python 3 (ipykernel)",
   "language": "python",
   "name": "python3"
  },
  "language_info": {
   "codemirror_mode": {
    "name": "ipython",
    "version": 3
   },
   "file_extension": ".py",
   "mimetype": "text/x-python",
   "name": "python",
   "nbconvert_exporter": "python",
   "pygments_lexer": "ipython3",
   "version": "3.11.4"
  }
 },
 "nbformat": 4,
 "nbformat_minor": 5
}
