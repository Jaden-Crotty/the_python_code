{
 "cells": [
  {
   "cell_type": "markdown",
   "id": "2677bc5c",
   "metadata": {},
   "source": [
    "# Algorithm Workbench"
   ]
  },
  {
   "cell_type": "markdown",
   "id": "b8a7fa60",
   "metadata": {},
   "source": [
    "# #1\n",
    "### Assume  references a string. The following  statement determines whether is equal to ‘Y’ or ‘y’:"
   ]
  },
  {
   "cell_type": "code",
   "execution_count": 9,
   "id": "233d4bea",
   "metadata": {},
   "outputs": [
    {
     "name": "stdout",
     "output_type": "stream",
     "text": [
      "please enter a chooseY\n",
      "this is a Yes\n"
     ]
    }
   ],
   "source": [
    "# take a user choose \n",
    "choice = input('please enter a choose')\n",
    "if choice.upper() == 'Y':\n",
    "    print(\"this is a Yes\")"
   ]
  },
  {
   "cell_type": "code",
   "execution_count": 11,
   "id": "5c4558ef",
   "metadata": {},
   "outputs": [
    {
     "name": "stdout",
     "output_type": "stream",
     "text": [
      "please enter a chooseN\n"
     ]
    }
   ],
   "source": [
    "choice = input('please enter a choose')\n",
    "if choice.upper() == 'Y':\n",
    "    print(\"this is a Yes\")"
   ]
  },
  {
   "cell_type": "code",
   "execution_count": null,
   "id": "4b15a385",
   "metadata": {},
   "outputs": [],
   "source": []
  }
 ],
 "metadata": {
  "kernelspec": {
   "display_name": "Python 3 (ipykernel)",
   "language": "python",
   "name": "python3"
  },
  "language_info": {
   "codemirror_mode": {
    "name": "ipython",
    "version": 3
   },
   "file_extension": ".py",
   "mimetype": "text/x-python",
   "name": "python",
   "nbconvert_exporter": "python",
   "pygments_lexer": "ipython3",
   "version": "3.11.4"
  }
 },
 "nbformat": 4,
 "nbformat_minor": 5
}
