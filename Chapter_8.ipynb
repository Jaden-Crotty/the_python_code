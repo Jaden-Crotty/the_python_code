{
 "cells": [
  {
   "cell_type": "markdown",
   "id": "53d3a21f",
   "metadata": {},
   "source": [
    "# Algorithm Workbench"
   ]
  },
  {
   "cell_type": "markdown",
   "id": "630f112d",
   "metadata": {},
   "source": [
    "# #1\n",
    "### Assume  references a string. The following  statement determines whether is equal to ‘Y’ or ‘y’:"
   ]
  },
  {
   "cell_type": "code",
   "execution_count": 13,
   "id": "fc148939",
   "metadata": {},
   "outputs": [
    {
     "name": "stdout",
     "output_type": "stream",
     "text": [
      "please enter a choosejaden\n",
      "JADEN\n"
     ]
    }
   ],
   "source": [
    "# take a user choose \n",
    "choice = input('please enter a choose')\n",
    "if choice.upper() == 'Y':\n",
    "    print(\"this is a Yes\")\n",
    "print(choice.upper())"
   ]
  },
  {
   "cell_type": "code",
   "execution_count": 11,
   "id": "1eb79a9a",
   "metadata": {},
   "outputs": [
    {
     "name": "stdout",
     "output_type": "stream",
     "text": [
      "please enter a chooseN\n"
     ]
    }
   ],
   "source": [
    "choice = input('please enter a choose')\n",
    "if choice.upper() == 'Y':\n",
    "    print(\"this is a Yes\")"
   ]
  },
  {
   "cell_type": "markdown",
   "id": "fea0bba8",
   "metadata": {},
   "source": [
    "# 8 \n",
    "### Assume mystring references a string. Write a statement that uses a slicing expression and displays the first 3 characters in the string."
   ]
  },
  {
   "cell_type": "code",
   "execution_count": 17,
   "id": "2e9484b5",
   "metadata": {},
   "outputs": [
    {
     "name": "stdout",
     "output_type": "stream",
     "text": [
      "exp\n"
     ]
    }
   ],
   "source": [
    "# mystring dumby value\n",
    "mystring = 'exploding kittens'\n",
    "# this is the slicing for the first charactor up to 3 \n",
    "my_slice = mystring[0:3]\n",
    "print(my_slice)"
   ]
  },
  {
   "cell_type": "markdown",
   "id": "63703f9b",
   "metadata": {},
   "source": [
    "# Programming Exercises\n",
    "## # 1  Initials\n",
    "#### Write a program that gets a string containing a person’s first, middle, and last names, and displays their first, middle, and last initials. For example, if the user enters John William Smith, the program should display J. W. S."
   ]
  },
  {
   "cell_type": "code",
   "execution_count": 19,
   "id": "3258232b",
   "metadata": {},
   "outputs": [
    {
     "name": "stdout",
     "output_type": "stream",
     "text": [
      "please enter first, middle, and last name John William Smith\n",
      "J\n",
      "W\n",
      "S\n"
     ]
    }
   ],
   "source": [
    "names = input(\"please enter first, middle, and last name \")\n",
    "# split names in to a list \n",
    "split_names = names.split()\n",
    "# loop through the split list \n",
    "for name in split_names:\n",
    "    # for the first character \n",
    "     print(name[0])"
   ]
  },
  {
   "cell_type": "markdown",
   "id": "c68ad013",
   "metadata": {},
   "source": [
    "# 9. Vowels and Consonants\n",
    "#### Write a program with a function that accepts a string as an argument and returns the number of vowels that the string contains. The application should have another function that accepts a string as an argument and returns the number of consonants that the string contains. The application should let the user enter a string, and should display the number of vowels and the number of consonants it contains."
   ]
  },
  {
   "cell_type": "code",
   "execution_count": 20,
   "id": "992e4b89",
   "metadata": {},
   "outputs": [
    {
     "name": "stdout",
     "output_type": "stream",
     "text": [
      "11\n"
     ]
    }
   ],
   "source": [
    "# Write a program with a function that accepts a string as an argument and returns the number of vowels that the string contains.\n",
    "def num_vowels(my_string):\n",
    "    vowel_count = 0\n",
    "    # loop through the string one character at a time \n",
    "    for ch in my_string:\n",
    "        # to acount for upper and lower case letters \n",
    "        upper_ch = ch.upper()\n",
    "        # compare to the vowel characters we are testing for \n",
    "        if upper_ch == \"A\" or upper_ch == \"E\" or upper_ch == \"I\" or upper_ch == \"O\" or upper_ch == \"U\":\n",
    "            vowel_count += 1\n",
    "    return vowel_count\n",
    "\n",
    "print(num_vowels('aarvdarks eat grapes outside'))"
   ]
  },
  {
   "cell_type": "code",
   "execution_count": 22,
   "id": "433cc189",
   "metadata": {},
   "outputs": [
    {
     "name": "stdout",
     "output_type": "stream",
     "text": [
      "11\n"
     ]
    }
   ],
   "source": [
    "# Write a program with a function that accepts a string as an argument and returns the number of consonants that the string contains.\n",
    "def num_consonants(my_string):\n",
    "    count = 0\n",
    "    # loop through the string one character at a time \n",
    "    for ch in my_string:\n",
    "        # to acount for upper and lower case letters \n",
    "        upper_ch = ch.upper()\n",
    "        # compare to the consonant characters we are testing for\n",
    "        consonant_chars = 'QWRTPSDFGHJKLZXCVBNMY'\n",
    "        if upper_ch in consonant_chars:\n",
    "            count += 1\n",
    "    return count\n",
    "\n",
    "print(num_consonants('the zoo is open on sunday.'))"
   ]
  },
  {
   "cell_type": "code",
   "execution_count": 24,
   "id": "1d02fcc0",
   "metadata": {},
   "outputs": [
    {
     "name": "stdout",
     "output_type": "stream",
     "text": [
      "enter a string hello world\n",
      "the number of vowels is 3\n",
      "the number of vowels is 7\n"
     ]
    }
   ],
   "source": [
    "my_string = input(\"enter a string \")\n",
    "\n",
    "print(f\"the number of vowels is {num_vowels(my_string)}\")\n",
    "print(f\"the number of vowels is {num_consonants(my_string)}\")"
   ]
  },
  {
   "cell_type": "markdown",
   "id": "965bf37c",
   "metadata": {},
   "source": [
    "# 12. Pig Latin\n",
    "### Write a program that accepts a sentence as input and converts each word to “Pig Latin.” In one version, to convert a word to Pig Latin, you remove the first letter and place that letter at the end of the word. Then, you append the string “ay” to the word. "
   ]
  },
  {
   "cell_type": "code",
   "execution_count": 31,
   "id": "66c8c8ce",
   "metadata": {},
   "outputs": [
    {
     "name": "stdout",
     "output_type": "stream",
     "text": [
      "please enter a sentence HELLO MY NAME IS JADEN \n",
      "ELLOHAY YMAY AMENAY SIAY ADENJAY "
     ]
    }
   ],
   "source": [
    "something = input(\"please enter a sentence \")\n",
    "# split up sentence into individual works \n",
    "split_line = something.split()\n",
    "# Go though each word in the sentence \n",
    "for word in split_line:\n",
    "    first = word[0]\n",
    "    # slice from second character to the end \n",
    "    rest = word[1:]\n",
    "    pig = rest + first + \"AY \"\n",
    "    print(pig, end='')"
   ]
  },
  {
   "cell_type": "markdown",
   "id": "41e89cdf",
   "metadata": {},
   "source": [
    "# 2. Sum of Digits in a String\n",
    "### Write a program that asks the user to enter a series of single-digit numbers with nothing separating them. The program should display the sum of all the single digit numbers in the string. For example, if the user enters 2514, the method should return 12, which is the sum of 2, 5, 1, and 4."
   ]
  },
  {
   "cell_type": "code",
   "execution_count": null,
   "id": "603d2dd0",
   "metadata": {},
   "outputs": [],
   "source": [
    "num = input(\"please enter numbers \")\n",
    "sum = 0\n",
    "# looping through one character at a time to find the sum \n",
    "for I in num:\n",
    "    # conert digit into an interger\n",
    "    digit = int(I)\n",
    "    # add digit to the sum  \n",
    "    sum += digit\n",
    "    \n",
    "print(f\"the sum string is {sum}\")"
   ]
  },
  {
   "cell_type": "code",
   "execution_count": null,
   "id": "625cf06c",
   "metadata": {},
   "outputs": [],
   "source": []
  }
 ],
 "metadata": {
  "kernelspec": {
   "display_name": "Python 3 (ipykernel)",
   "language": "python",
   "name": "python3"
  },
  "language_info": {
   "codemirror_mode": {
    "name": "ipython",
    "version": 3
   },
   "file_extension": ".py",
   "mimetype": "text/x-python",
   "name": "python",
   "nbconvert_exporter": "python",
   "pygments_lexer": "ipython3",
   "version": "3.11.4"
  }
 },
 "nbformat": 4,
 "nbformat_minor": 5
}
