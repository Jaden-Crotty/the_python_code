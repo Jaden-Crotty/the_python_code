{
 "cells": [
  {
   "cell_type": "markdown",
   "id": "11f04fa7",
   "metadata": {},
   "source": [
    "# Algorithm Workbench"
   ]
  },
  {
   "cell_type": "markdown",
   "id": "99163c40",
   "metadata": {},
   "source": [
    "# #1\n",
    "### Assume  references a string. The following  statement determines whether is equal to ‘Y’ or ‘y’:"
   ]
  },
  {
   "cell_type": "code",
   "execution_count": 13,
   "id": "6dfc7093",
   "metadata": {},
   "outputs": [
    {
     "name": "stdout",
     "output_type": "stream",
     "text": [
      "please enter a choosejaden\n",
      "JADEN\n"
     ]
    }
   ],
   "source": [
    "# take a user choose \n",
    "choice = input('please enter a choose')\n",
    "if choice.upper() == 'Y':\n",
    "    print(\"this is a Yes\")\n",
    "print(choice.upper())"
   ]
  },
  {
   "cell_type": "code",
   "execution_count": 11,
   "id": "4524e55d",
   "metadata": {},
   "outputs": [
    {
     "name": "stdout",
     "output_type": "stream",
     "text": [
      "please enter a chooseN\n"
     ]
    }
   ],
   "source": [
    "choice = input('please enter a choose')\n",
    "if choice.upper() == 'Y':\n",
    "    print(\"this is a Yes\")"
   ]
  },
  {
   "cell_type": "markdown",
   "id": "8e81862c",
   "metadata": {},
   "source": [
    "# 8 \n",
    "### Assume mystring references a string. Write a statement that uses a slicing expression and displays the first 3 characters in the string."
   ]
  },
  {
   "cell_type": "code",
   "execution_count": 17,
   "id": "c43676b9",
   "metadata": {},
   "outputs": [
    {
     "name": "stdout",
     "output_type": "stream",
     "text": [
      "exp\n"
     ]
    }
   ],
   "source": [
    "# mystring dumby value\n",
    "mystring = 'exploding kittens'\n",
    "# this is the slicing for the first charactor up to 3 \n",
    "my_slice = mystring[0:3]\n",
    "print(my_slice)"
   ]
  },
  {
   "cell_type": "code",
   "execution_count": null,
   "id": "3c759218",
   "metadata": {},
   "outputs": [],
   "source": []
  }
 ],
 "metadata": {
  "kernelspec": {
   "display_name": "Python 3 (ipykernel)",
   "language": "python",
   "name": "python3"
  },
  "language_info": {
   "codemirror_mode": {
    "name": "ipython",
    "version": 3
   },
   "file_extension": ".py",
   "mimetype": "text/x-python",
   "name": "python",
   "nbconvert_exporter": "python",
   "pygments_lexer": "ipython3",
   "version": "3.11.4"
  }
 },
 "nbformat": 4,
 "nbformat_minor": 5
}
