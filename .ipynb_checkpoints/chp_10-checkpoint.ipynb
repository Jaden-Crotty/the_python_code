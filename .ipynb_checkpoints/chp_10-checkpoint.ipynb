{
 "cells": [
  {
   "cell_type": "markdown",
   "id": "3e5efd4c",
   "metadata": {},
   "source": [
    "# 4. \n",
    "### Employee ClassWrite a class named  that holds the following data about an employee in attributes: name, ID number, department, and job title.Once you have written the class, write a program that creates three  objects to hold the following data The program should store this data in the three objects, then display the data for each employee on the screen."
   ]
  },
  {
   "cell_type": "code",
   "execution_count": 15,
   "id": "d0daf704",
   "metadata": {},
   "outputs": [
    {
     "name": "stdout",
     "output_type": "stream",
     "text": [
      "employee name: Susan Meyers\n",
      "ID number: 47899\n",
      "department: Accounting\n",
      "job title: Vice President\n",
      "\n",
      "employee name: Mark Jones\n",
      "ID number: 39119\n",
      "department: IT\n",
      "job title: Programmer\n",
      "\n",
      "employee name: Joy Rogers\n",
      "ID number: 81774\n",
      "department: Manufacturing\n",
      "job title: Engineer\n",
      "\n"
     ]
    }
   ],
   "source": [
    "class Employee:\n",
    "    # constructor\n",
    "    def __init__(self,name,ID,dept,job):\n",
    "        self.__name = name\n",
    "        self.__ID = ID\n",
    "        self.__dept = dept\n",
    "        self.__job = job\n",
    "        \n",
    "    def set_name(self, name):\n",
    "        self.__name = name\n",
    "    \n",
    "    def set_ID(self, ID):\n",
    "        self.__ID = ID\n",
    "        \n",
    "    def set_dept(self, dept):\n",
    "        self.__dept = dept\n",
    "        \n",
    "    def set_job(self, job):\n",
    "        self.__job = job\n",
    "        \n",
    "    def get_name(self):\n",
    "        return self.__name\n",
    "    \n",
    "    def get_ID(self):\n",
    "        return self.__ID \n",
    "        \n",
    "    def get_dept(self):\n",
    "        return self.__dept \n",
    "        \n",
    "    def get_job(self):\n",
    "        return self.__job\n",
    "    \n",
    "    def display_data(self):\n",
    "        print(f'employee name: {self.__name}')\n",
    "        print(f'ID number: {self.__ID}')\n",
    "        print(f'department: {self.__dept}')\n",
    "        print(f'job title: {self.__job}')\n",
    "        print()\n",
    "        \n",
    "    \n",
    "        \n",
    "        \n",
    "        \n",
    "        \n",
    "\n",
    "e1 = Employee(\"Susan Meyers\", 47899,\"Accounting\",\"Vice President\")\n",
    "\n",
    "e2 = Employee(\"Mark Jones\", 39119, \"IT\", \"Programmer\")\n",
    "\n",
    "e3 = Employee(\"Joy Rogers\", 81774, \"Manufacturing\", \"Engineer\")\n",
    "\n",
    "e1.display_data()\n",
    "\n",
    "e2.display_data()\n",
    "\n",
    "e3.display_data()\n",
    "\n"
   ]
  },
  {
   "cell_type": "code",
   "execution_count": null,
   "id": "2a5d6aef",
   "metadata": {},
   "outputs": [],
   "source": []
  }
 ],
 "metadata": {
  "kernelspec": {
   "display_name": "Python 3 (ipykernel)",
   "language": "python",
   "name": "python3"
  },
  "language_info": {
   "codemirror_mode": {
    "name": "ipython",
    "version": 3
   },
   "file_extension": ".py",
   "mimetype": "text/x-python",
   "name": "python",
   "nbconvert_exporter": "python",
   "pygments_lexer": "ipython3",
   "version": "3.11.4"
  }
 },
 "nbformat": 4,
 "nbformat_minor": 5
}
