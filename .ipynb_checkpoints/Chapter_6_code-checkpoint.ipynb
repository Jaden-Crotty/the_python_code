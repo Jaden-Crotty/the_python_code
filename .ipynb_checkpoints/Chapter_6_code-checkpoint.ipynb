{
 "cells": [
  {
   "attachments": {},
   "cell_type": "markdown",
   "id": "ca84c9dc",
   "metadata": {},
   "source": [
    "# Algorithm Workbench \n",
    "### question 1 "
   ]
  },
  {
   "cell_type": "markdown",
   "id": "7fd5cc00",
   "metadata": {},
   "source": [
    "### this code is asking use to write a program that opens an output file with the filename \n",
    "### writes your name to the file, then closes the file. "
   ]
  },
  {
   "cell_type": "code",
   "execution_count": 8,
   "id": "10d2ec5a",
   "metadata": {},
   "outputs": [],
   "source": [
    "# define the file name \n",
    "filename = \"my_name.txt\"\n",
    "\n",
    "# open file name in write mode \n",
    "with open(filename, \"w\") as file:\n",
    "    # write name to the file \n",
    "    file.write(\"Jaden\")"
   ]
  },
  {
   "cell_type": "markdown",
   "id": "709f1956",
   "metadata": {},
   "source": [
    "# question 2 \n",
    "### Write a program that opens the  file that was created by the program in problem 1\n",
    "### reads your name from the file, displays the name on the screen, then closes the file."
   ]
  },
  {
   "cell_type": "code",
   "execution_count": 9,
   "id": "6efb3cfd",
   "metadata": {},
   "outputs": [
    {
     "name": "stdout",
     "output_type": "stream",
     "text": [
      "Jaden\n"
     ]
    }
   ],
   "source": [
    "# define the file name \n",
    "filename = \"my_name.txt\"\n",
    "\n",
    "# open file name in read mode \n",
    "with open(filename, \"r\") as file:\n",
    "    # print name in the file  \n",
    "    print(file.read())"
   ]
  },
  {
   "cell_type": "markdown",
   "id": "ee4122ea",
   "metadata": {},
   "source": [
    "# Programming Exercises\n",
    "# #1 File Display"
   ]
  },
  {
   "cell_type": "code",
   "execution_count": 14,
   "id": "e6e47bc3",
   "metadata": {},
   "outputs": [
    {
     "name": "stdout",
     "output_type": "stream",
     "text": [
      "100\n",
      "2\n",
      "9\n",
      "85\n",
      "47\n",
      "34\n",
      "10\n",
      "7\n",
      "87"
     ]
    }
   ],
   "source": [
    "# define the file name \n",
    "filename = \"number.txt\"\n",
    "\n",
    "# open file name in read mode \n",
    "with open(filename, \"r\") as file:\n",
    "    for line in file.readlines():\n",
    "        print(line,end='')"
   ]
  },
  {
   "cell_type": "code",
   "execution_count": null,
   "id": "85076852",
   "metadata": {},
   "outputs": [],
   "source": []
  }
 ],
 "metadata": {
  "kernelspec": {
   "display_name": "Python 3 (ipykernel)",
   "language": "python",
   "name": "python3"
  },
  "language_info": {
   "codemirror_mode": {
    "name": "ipython",
    "version": 3
   },
   "file_extension": ".py",
   "mimetype": "text/x-python",
   "name": "python",
   "nbconvert_exporter": "python",
   "pygments_lexer": "ipython3",
   "version": "3.11.4"
  }
 },
 "nbformat": 4,
 "nbformat_minor": 5
}
