{
 "cells": [
  {
   "cell_type": "markdown",
   "id": "395a6203",
   "metadata": {},
   "source": [
    "# Algorithm Workbench\n",
    "### # 1 \n",
    "### Write a statement that creates a list with the following strings:'Einstein', 'Newton', 'Copernicus', 'Kepler'"
   ]
  },
  {
   "cell_type": "code",
   "execution_count": 1,
   "id": "8afe0311",
   "metadata": {},
   "outputs": [
    {
     "name": "stdout",
     "output_type": "stream",
     "text": [
      "Einstein\n",
      "Newton\n",
      "Copernicus\n",
      "Kepler\n"
     ]
    }
   ],
   "source": [
    "# scientist is the list name and assign the names to the list \n",
    "scientists = ['Einstein', 'Newton', 'Copernicus', 'Kepler']\n",
    "\n",
    "# Access and print names\n",
    "print(scientists[0])  \n",
    "print(scientists[1])  \n",
    "print(scientists[2])\n",
    "print(scientists[3])"
   ]
  },
  {
   "cell_type": "markdown",
   "id": "29227afd",
   "metadata": {},
   "source": [
    "### # 2\n",
    "### Assume names references a list. Write a  loop that displays each element of the list."
   ]
  },
  {
   "cell_type": "code",
   "execution_count": 12,
   "id": "c7689fe1",
   "metadata": {},
   "outputs": [
    {
     "name": "stdout",
     "output_type": "stream",
     "text": [
      "chris\n",
      "nick\n",
      "emily\n",
      "taylor\n"
     ]
    }
   ],
   "source": [
    "# names is the name of the list of names \n",
    "names = ['chris', 'nick', 'emily', 'taylor']\n",
    "# for name in names: is to set up the loop for the names to print \n",
    "for name in names:\n",
    "    print(name)"
   ]
  },
  {
   "cell_type": "markdown",
   "id": "b328f453",
   "metadata": {},
   "source": [
    "# Programming Exercises"
   ]
  },
  {
   "cell_type": "markdown",
   "id": "2c5bb6cb",
   "metadata": {},
   "source": [
    "### 1. Total Sales\n",
    "#### Design a program that asks the user to enter a store’s sales for each day of the week. The amounts should be stored in a list. Use a loop to calculate the total sales for the week and display the result."
   ]
  },
  {
   "cell_type": "code",
   "execution_count": 15,
   "id": "3237f23b",
   "metadata": {},
   "outputs": [
    {
     "name": "stdout",
     "output_type": "stream",
     "text": [
      "please enter the slaes for monday: 2\n",
      "please enter the slaes for tuesday: 2\n",
      "please enter the slaes for wednesday: 2\n",
      "please enter the slaes for thusday: 2\n",
      "please enter the slaes for friday: 2\n",
      "please enter the slaes for saturday: 2\n",
      "please enter the slaes for sunday: 2\n"
     ]
    }
   ],
   "source": [
    "sum = 0 \n",
    "sales_list = [0, 0, 0, 0, 0, 0, 0]\n",
    "sales_list[0] = float(input(\"please enter the slaes for monday: \"))\n",
    "sales_list[1] = float(input(\"please enter the slaes for tuesday: \"))\n",
    "sales_list[2] = float(input(\"please enter the slaes for wednesday: \"))\n",
    "sales_list[3] = float(input(\"please enter the slaes for thusday: \"))\n",
    "sales_list[4] = float(input(\"please enter the slaes for friday: \"))\n",
    "sales_list[5] = float(input(\"please enter the slaes for saturday: \"))\n",
    "sales_list[6] = float(input(\"please enter the slaes for sunday: \"))\n",
    "\n",
    "for sales in sales_list:\n",
    "    sum += sales\n",
    "    \n",
    "print(f\"this sum is {sum}\")"
   ]
  },
  {
   "cell_type": "markdown",
   "id": "849e56ef",
   "metadata": {},
   "source": []
  }
 ],
 "metadata": {
  "kernelspec": {
   "display_name": "Python 3 (ipykernel)",
   "language": "python",
   "name": "python3"
  },
  "language_info": {
   "codemirror_mode": {
    "name": "ipython",
    "version": 3
   },
   "file_extension": ".py",
   "mimetype": "text/x-python",
   "name": "python",
   "nbconvert_exporter": "python",
   "pygments_lexer": "ipython3",
   "version": "3.11.4"
  }
 },
 "nbformat": 4,
 "nbformat_minor": 5
}
