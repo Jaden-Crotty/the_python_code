{
 "cells": [
  {
   "cell_type": "markdown",
   "id": "713ef3c9",
   "metadata": {},
   "source": [
    "# Algorithm Workbench\n",
    "### # 1 \n",
    "### Write a statement that creates a list with the following strings:'Einstein', 'Newton', 'Copernicus', 'Kepler'"
   ]
  },
  {
   "cell_type": "code",
   "execution_count": 1,
   "id": "db4a33cc",
   "metadata": {},
   "outputs": [
    {
     "name": "stdout",
     "output_type": "stream",
     "text": [
      "Einstein\n",
      "Newton\n",
      "Copernicus\n",
      "Kepler\n"
     ]
    }
   ],
   "source": [
    "# scientist is the list name and assign the names to the list \n",
    "scientists = ['Einstein', 'Newton', 'Copernicus', 'Kepler']\n",
    "\n",
    "# Access and print names\n",
    "print(scientists[0])  \n",
    "print(scientists[1])  \n",
    "print(scientists[2])\n",
    "print(scientists[3])"
   ]
  },
  {
   "cell_type": "markdown",
   "id": "b03786c9",
   "metadata": {},
   "source": [
    "### # 2\n",
    "### Assume names references a list. Write a  loop that displays each element of the list."
   ]
  },
  {
   "cell_type": "code",
   "execution_count": 12,
   "id": "bf2cf1e3",
   "metadata": {},
   "outputs": [
    {
     "name": "stdout",
     "output_type": "stream",
     "text": [
      "chris\n",
      "nick\n",
      "emily\n",
      "taylor\n"
     ]
    }
   ],
   "source": [
    "# names is the name of the list of names \n",
    "names = ['chris', 'nick', 'emily', 'taylor']\n",
    "# for name in names: is to set up the loop for the names to print \n",
    "for name in names:\n",
    "    print(name)"
   ]
  },
  {
   "cell_type": "markdown",
   "id": "b600fc6e",
   "metadata": {},
   "source": [
    "# Programming Exercises"
   ]
  },
  {
   "cell_type": "markdown",
   "id": "e84902da",
   "metadata": {},
   "source": [
    "### 1. Total Sales\n",
    "#### Design a program that asks the user to enter a store’s sales for each day of the week. The amounts should be stored in a list. Use a loop to calculate the total sales for the week and display the result."
   ]
  },
  {
   "cell_type": "code",
   "execution_count": 17,
   "id": "1238cf3b",
   "metadata": {},
   "outputs": [
    {
     "name": "stdout",
     "output_type": "stream",
     "text": [
      "please enter the slaes for monday: 2.1\n",
      "please enter the slaes for tuesday: 4\n",
      "please enter the slaes for wednesday: 4\n",
      "please enter the slaes for thusday: 10\n",
      "please enter the slaes for friday: 10\n",
      "please enter the slaes for saturday: 10\n",
      "please enter the slaes for sunday: 10\n",
      "the sum is 50.1\n"
     ]
    }
   ],
   "source": [
    "sum = 0 \n",
    "sales_list = [0, 0, 0, 0, 0, 0, 0]\n",
    "sales_list[0] = float(input(\"please enter the slaes for monday: \"))\n",
    "sales_list[1] = float(input(\"please enter the slaes for tuesday: \"))\n",
    "sales_list[2] = float(input(\"please enter the slaes for wednesday: \"))\n",
    "sales_list[3] = float(input(\"please enter the slaes for thusday: \"))\n",
    "sales_list[4] = float(input(\"please enter the slaes for friday: \"))\n",
    "sales_list[5] = float(input(\"please enter the slaes for saturday: \"))\n",
    "sales_list[6] = float(input(\"please enter the slaes for sunday: \"))\n",
    "\n",
    "for sales in sales_list:\n",
    "    sum += sales\n",
    "    \n",
    "print(f\"the sum is {sum}\")"
   ]
  },
  {
   "cell_type": "markdown",
   "id": "d5a5856b",
   "metadata": {},
   "source": [
    "# Expense Pie Chart\n",
    "### Write a Python program that reads the data from the file and uses matplotlib to plot a pie chart showing how you spend your money."
   ]
  },
  {
   "cell_type": "code",
   "execution_count": 25,
   "id": "96dec060",
   "metadata": {},
   "outputs": [
    {
     "data": {
      "text/plain": [
       "([<matplotlib.patches.Wedge at 0x26017003590>,\n",
       "  <matplotlib.patches.Wedge at 0x2601720f510>,\n",
       "  <matplotlib.patches.Wedge at 0x26017218710>,\n",
       "  <matplotlib.patches.Wedge at 0x26017219b10>,\n",
       "  <matplotlib.patches.Wedge at 0x2601721ae10>,\n",
       "  <matplotlib.patches.Wedge at 0x26017228290>,\n",
       "  <matplotlib.patches.Wedge at 0x260172298d0>],\n",
       " [Text(0.9910657451172095, 0.47727213291294374, 'Rent'),\n",
       "  Text(0.24477296280441296, 1.0724207181325571, 'Gas'),\n",
       "  Text(-0.68583886831644, 0.8600145619153347, 'Food'),\n",
       "  Text(-1.0999999999999892, -1.5448414893833034e-07, 'Clothing'),\n",
       "  Text(-0.6858386267552901, -0.8600147545539077, 'Car'),\n",
       "  Text(0.24477326402622548, -1.0724206493806185, 'payment'),\n",
       "  Text(0.9910658791734962, -0.47727185454211024, 'Misc')])"
      ]
     },
     "execution_count": 25,
     "metadata": {},
     "output_type": "execute_result"
    },
    {
     "data": {
      "image/png": "[encoded data removed]",
      "text/plain": [
       "<Figure size 640x480 with 1 Axes>"
      ]
     },
     "metadata": {},
     "output_type": "display_data"
    }
   ],
   "source": [
    "# input matplotlib as plit is a short hand for the library\n",
    "import matplotlib.pyplot as plt\n",
    "# set up the lables\n",
    "labels = 'Rent', 'Gas', 'Food', 'Clothing', 'Car', 'payment', 'Misc'\n",
    "# set up the data list \n",
    "money = [1, 1, 1, 1, 1, 1, 1]\n",
    "# this part plots the pie chart and plots it\n",
    "fig, ax = plt.subplots()\n",
    "ax.pie(money, labels = labels)"
   ]
  },
  {
   "cell_type": "code",
   "execution_count": null,
   "id": "1a599e7d",
   "metadata": {},
   "outputs": [],
   "source": []
  }
 ],
 "metadata": {
  "kernelspec": {
   "display_name": "Python 3 (ipykernel)",
   "language": "python",
   "name": "python3"
  },
  "language_info": {
   "codemirror_mode": {
    "name": "ipython",
    "version": 3
   },
   "file_extension": ".py",
   "mimetype": "text/x-python",
   "name": "python",
   "nbconvert_exporter": "python",
   "pygments_lexer": "ipython3",
   "version": "3.11.4"
  }
 },
 "nbformat": 4,
 "nbformat_minor": 5
}
