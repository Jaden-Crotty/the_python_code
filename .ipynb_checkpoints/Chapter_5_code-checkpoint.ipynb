{
 "cells": [
  {
   "cell_type": "markdown",
   "id": "11ddfb09",
   "metadata": {},
   "source": [
    "# Algorithm workbench\n",
    "### question 1 "
   ]
  },
  {
   "cell_type": "code",
   "execution_count": null,
   "id": "87dd5f9a",
   "metadata": {},
   "outputs": [],
   "source": [
    "# Write a function named Times_ten.\n",
    "# The function should accept an argument and display the product of its argument multiplied times 10\n",
    "# first we need to define the function \n",
    "def times_ten(argument):\n",
    "    # this part times the argument by 10 and prints result\n",
    "    result = argument * 10\n",
    "    print(result)"
   ]
  },
  {
   "cell_type": "code",
   "execution_count": 3,
   "id": "9dff55eb",
   "metadata": {},
   "outputs": [
    {
     "name": "stdout",
     "output_type": "stream",
     "text": [
      "Hello worldHello worldHello worldHello worldHello worldHello worldHello worldHello worldHello worldHello world\n"
     ]
    }
   ],
   "source": [
    "times_ten('Hello world')"
   ]
  },
  {
   "cell_type": "code",
   "execution_count": 4,
   "id": "df2cd0b8",
   "metadata": {},
   "outputs": [
    {
     "name": "stdout",
     "output_type": "stream",
     "text": [
      "Hello world Hello world Hello world Hello world Hello world Hello world Hello world Hello world Hello world Hello world \n"
     ]
    }
   ],
   "source": [
    "times_ten(\"Hello world \")"
   ]
  },
  {
   "cell_type": "code",
   "execution_count": 5,
   "id": "34b0052e",
   "metadata": {},
   "outputs": [
    {
     "name": "stdout",
     "output_type": "stream",
     "text": [
      "Hello World, Hello World, Hello World, Hello World, Hello World, Hello World, Hello World, Hello World, Hello World, Hello World, \n"
     ]
    }
   ],
   "source": [
    "times_ten(\"Hello World, \")"
   ]
  },
  {
   "cell_type": "markdown",
   "id": "e6e86c3b",
   "metadata": {},
   "source": [
    "# question 10"
   ]
  },
  {
   "cell_type": "markdown",
   "id": "045fac7b",
   "metadata": {},
   "source": [
    "### Write a function named get_first_name that asks the user to enter his or her first name, and returns it."
   ]
  },
  {
   "cell_type": "code",
   "execution_count": 16,
   "id": "e1f0c209",
   "metadata": {},
   "outputs": [],
   "source": [
    "#first we need to define the function \n",
    "def get_first_name():\n",
    "    # then we need to add a input function and return function \n",
    "    first_name = input(\"enter your name: \")\n",
    "    return first_name"
   ]
  },
  {
   "cell_type": "code",
   "execution_count": 19,
   "id": "4876cc14",
   "metadata": {},
   "outputs": [
    {
     "name": "stdout",
     "output_type": "stream",
     "text": [
      "enter your name: Jaden\n",
      "Jaden\n",
      "enter your name: tom\n",
      "tom\n"
     ]
    }
   ],
   "source": [
    "# call function and capuring the return in a varable \n",
    "first_name = get_first_name()\n",
    "print(first_name)"
   ]
  },
  {
   "cell_type": "markdown",
   "id": "249a21a5",
   "metadata": {},
   "source": [
    "# Programming exerices "
   ]
  },
  {
   "cell_type": "markdown",
   "id": "95d18758",
   "metadata": {},
   "source": [
    "## Kilometer converter"
   ]
  },
  {
   "cell_type": "code",
   "execution_count": 23,
   "id": "7ca8de22",
   "metadata": {},
   "outputs": [],
   "source": [
    "# eneter the def and return function for ecation given \n",
    "def Km_M(Km):\n",
    "    M = Km * .6214\n",
    "    return M"
   ]
  },
  {
   "cell_type": "code",
   "execution_count": 22,
   "id": "8d97ca1f",
   "metadata": {},
   "outputs": [
    {
     "name": "stdout",
     "output_type": "stream",
     "text": [
      "enter a distances in Kilometers20\n",
      "the miles is 12.427999999999999\n"
     ]
    }
   ],
   "source": [
    "# eneter print function and grab M from the cell on top \n",
    "Km = float(input('enter a distances in Kilometers'))\n",
    "M = Km_M(Km)\n",
    "print(f'the miles is {M}')"
   ]
  },
  {
   "cell_type": "code",
   "execution_count": 21,
   "id": "fa2586e6",
   "metadata": {},
   "outputs": [],
   "source": [
    "def Km_M(Km):\n",
    "    M = Km * .6214\n",
    "    return M"
   ]
  },
  {
   "cell_type": "code",
   "execution_count": 24,
   "id": "9c8fec2e",
   "metadata": {},
   "outputs": [
    {
     "name": "stdout",
     "output_type": "stream",
     "text": [
      "enter a distances in Kilometers50\n",
      "the miles is 31.069999999999997\n"
     ]
    }
   ],
   "source": [
    "Km = float(input('enter a distances in Kilometers'))\n",
    "M = Km_M(Km)\n",
    "print(f'the miles is {M}')"
   ]
  },
  {
   "cell_type": "markdown",
   "id": "2ed37a58",
   "metadata": {},
   "source": [
    "# Prime numbers # 16"
   ]
  },
  {
   "cell_type": "code",
   "execution_count": 46,
   "id": "378f785b",
   "metadata": {},
   "outputs": [],
   "source": [
    "# enter def and for in range to check for prime numbers \n",
    "def is_prime(num):\n",
    "    if(num <= 1):\n",
    "        return False\n",
    "    for I in range(2,num):\n",
    "        remainder = num % I\n",
    "        if remainder == 0:\n",
    "            return False\n",
    "        \n",
    "    # whole loop finished now we can confinety say its true     \n",
    "    return True"
   ]
  },
  {
   "cell_type": "code",
   "execution_count": 47,
   "id": "17eb4b36",
   "metadata": {},
   "outputs": [
    {
     "name": "stdout",
     "output_type": "stream",
     "text": [
      "enter and number to see if its prime: 1\n",
      "the number is not prime.\n"
     ]
    }
   ],
   "source": [
    "# num float input promp user to enter a number \n",
    "num = int(input(\"enter and number to see if its prime: \"))\n",
    "prime = is_prime(num) # is_prime(num) is now = to prime \n",
    "if prime:\n",
    "    print('the number was prime.')\n",
    "else:\n",
    "    print('the number is not prime.')\n",
    "# if to print if number is prime, else if its not "
   ]
  },
  {
   "cell_type": "code",
   "execution_count": 38,
   "id": "108f60ae",
   "metadata": {},
   "outputs": [
    {
     "name": "stdout",
     "output_type": "stream",
     "text": [
      "enter and number to see if its prime: 15\n",
      "the number is not prime.\n"
     ]
    }
   ],
   "source": [
    "# num float input promp user to enter a number \n",
    "num = int(input(\"enter and number to see if its prime: \"))\n",
    "prime = is_prime(num) # is_prime(num) is now = to prime \n",
    "if prime:\n",
    "    print('the number was prime.')\n",
    "else:\n",
    "    print('the number is not prime.')\n",
    "# if to print if number is prime, else if its not "
   ]
  },
  {
   "cell_type": "markdown",
   "id": "ab0bae5c",
   "metadata": {},
   "source": [
    "# Prime number list # 17 "
   ]
  },
  {
   "cell_type": "code",
   "execution_count": 41,
   "id": "1e7493a4",
   "metadata": {},
   "outputs": [
    {
     "name": "stdout",
     "output_type": "stream",
     "text": [
      "2\n",
      "3\n",
      "5\n",
      "7\n",
      "11\n",
      "13\n",
      "17\n",
      "19\n",
      "23\n",
      "29\n",
      "31\n",
      "37\n",
      "41\n",
      "43\n",
      "47\n",
      "53\n",
      "59\n",
      "61\n",
      "67\n",
      "71\n",
      "73\n",
      "79\n",
      "83\n",
      "89\n",
      "97\n"
     ]
    }
   ],
   "source": [
    "# enter def and for in range to check for prime numbers \n",
    "def is_prime(num):\n",
    "    if(num <= 1):\n",
    "        return False\n",
    "    for I in range(2,num):\n",
    "        remainder = num % I\n",
    "        if remainder == 0:\n",
    "            return False\n",
    "        \n",
    "    # whole loop finished now we can confinety say its true     \n",
    "    return True\n",
    "for I in range(1,101):\n",
    "    prime = is_prime(I)\n",
    "    if prime:\n",
    "        print(I)"
   ]
  },
  {
   "cell_type": "markdown",
   "id": "55ad4c83",
   "metadata": {},
   "source": [
    "# random number guessing game # 19 "
   ]
  },
  {
   "cell_type": "code",
   "execution_count": null,
   "id": "bdbd63ab",
   "metadata": {},
   "outputs": [
    {
     "name": "stdout",
     "output_type": "stream",
     "text": [
      "guess: 67\n",
      "to high try again: \n",
      "guess: 41\n",
      "to high try again: \n",
      "guess: 10\n",
      "to low try again: \n",
      "guess: 27\n",
      "to low try again: \n",
      "guess: 35\n",
      "to high try again: \n",
      "guess: 30\n",
      "to high try again: \n",
      "guess: 29\n",
      "you got it!\n",
      "guess: 10\n",
      "to low try again: \n"
     ]
    }
   ],
   "source": [
    "# uses pythons bulit in code to genartate a random number from 1 - 100 \n",
    "import random\n",
    "rannum = random.randint(1,100)\n",
    "# this loop will run over and over until they guess it \n",
    "# using an if, elif, else statment to let user know if they are higher or lower than the number genartated \n",
    "while True:\n",
    "    guess = int(input(\"guess: \"))\n",
    "    if guess > rannum: \n",
    "        print('to high try again: ')\n",
    "    elif guess < rannum: \n",
    "        print('to low try again: ')\n",
    "    else:\n",
    "        print (\"you got it!\")"
   ]
  },
  {
   "cell_type": "code",
   "execution_count": null,
   "id": "bb0d2ef3",
   "metadata": {},
   "outputs": [],
   "source": []
  }
 ],
 "metadata": {
  "kernelspec": {
   "display_name": "Python 3 (ipykernel)",
   "language": "python",
   "name": "python3"
  },
  "language_info": {
   "codemirror_mode": {
    "name": "ipython",
    "version": 3
   },
   "file_extension": ".py",
   "mimetype": "text/x-python",
   "name": "python",
   "nbconvert_exporter": "python",
   "pygments_lexer": "ipython3",
   "version": "3.11.4"
  }
 },
 "nbformat": 4,
 "nbformat_minor": 5
}
