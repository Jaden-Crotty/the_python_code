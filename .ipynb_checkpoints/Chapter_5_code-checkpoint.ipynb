{
 "cells": [
  {
   "cell_type": "markdown",
   "id": "b8941bb3",
   "metadata": {},
   "source": [
    "# Algorithm workbench\n",
    "### question 1 "
   ]
  },
  {
   "cell_type": "code",
   "execution_count": null,
   "id": "6324cc72",
   "metadata": {},
   "outputs": [],
   "source": [
    "# Write a function named Times_ten.\n",
    "# The function should accept an argument and display the product of its argument multiplied times 10\n",
    "# first we need to define the function \n",
    "def times_ten(argument):\n",
    "    # this part times the argument by 10 and prints result\n",
    "    result = argument * 10\n",
    "    print(result)"
   ]
  },
  {
   "cell_type": "code",
   "execution_count": 3,
   "id": "0d819109",
   "metadata": {},
   "outputs": [
    {
     "name": "stdout",
     "output_type": "stream",
     "text": [
      "Hello worldHello worldHello worldHello worldHello worldHello worldHello worldHello worldHello worldHello world\n"
     ]
    }
   ],
   "source": [
    "times_ten('Hello world')"
   ]
  },
  {
   "cell_type": "code",
   "execution_count": 4,
   "id": "2bff1f6c",
   "metadata": {},
   "outputs": [
    {
     "name": "stdout",
     "output_type": "stream",
     "text": [
      "Hello world Hello world Hello world Hello world Hello world Hello world Hello world Hello world Hello world Hello world \n"
     ]
    }
   ],
   "source": [
    "times_ten(\"Hello world \")"
   ]
  },
  {
   "cell_type": "code",
   "execution_count": 5,
   "id": "c633dd43",
   "metadata": {},
   "outputs": [
    {
     "name": "stdout",
     "output_type": "stream",
     "text": [
      "Hello World, Hello World, Hello World, Hello World, Hello World, Hello World, Hello World, Hello World, Hello World, Hello World, \n"
     ]
    }
   ],
   "source": [
    "times_ten(\"Hello World, \")"
   ]
  },
  {
   "cell_type": "markdown",
   "id": "d029c284",
   "metadata": {},
   "source": [
    "# question 10"
   ]
  },
  {
   "cell_type": "markdown",
   "id": "313cc625",
   "metadata": {},
   "source": [
    "### Write a function named get_first_name that asks the user to enter his or her first name, and returns it."
   ]
  },
  {
   "cell_type": "code",
   "execution_count": 10,
   "id": "5caaa9d1",
   "metadata": {},
   "outputs": [
    {
     "ename": "SyntaxError",
     "evalue": "invalid syntax (2051315468.py, line 5)",
     "output_type": "error",
     "traceback": [
      "\u001b[1;36m  Cell \u001b[1;32mIn[10], line 5\u001b[1;36m\u001b[0m\n\u001b[1;33m    return = first_name\u001b[0m\n\u001b[1;37m           ^\u001b[0m\n\u001b[1;31mSyntaxError\u001b[0m\u001b[1;31m:\u001b[0m invalid syntax\n"
     ]
    }
   ],
   "source": [
    "#first we need to define the function \n",
    "def get_first_name():\n",
    "    # then we need to add a input function and return function \n",
    "    first_name = input(\"enter your name: \")\n",
    "    return = first_name\n",
    "  "
   ]
  },
  {
   "cell_type": "code",
   "execution_count": null,
   "id": "54034311",
   "metadata": {},
   "outputs": [],
   "source": []
  }
 ],
 "metadata": {
  "kernelspec": {
   "display_name": "Python 3 (ipykernel)",
   "language": "python",
   "name": "python3"
  },
  "language_info": {
   "codemirror_mode": {
    "name": "ipython",
    "version": 3
   },
   "file_extension": ".py",
   "mimetype": "text/x-python",
   "name": "python",
   "nbconvert_exporter": "python",
   "pygments_lexer": "ipython3",
   "version": "3.11.4"
  }
 },
 "nbformat": 4,
 "nbformat_minor": 5
}
