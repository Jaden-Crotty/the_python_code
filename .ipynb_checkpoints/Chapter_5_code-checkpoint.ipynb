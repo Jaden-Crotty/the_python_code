{
 "cells": [
  {
   "cell_type": "markdown",
   "id": "68e69931",
   "metadata": {},
   "source": [
    "# Algorithm workbench\n",
    "### question 1 "
   ]
  },
  {
   "cell_type": "code",
   "execution_count": null,
   "id": "da790722",
   "metadata": {},
   "outputs": [],
   "source": [
    "# Write a function named Times_ten.\n",
    "# The function should accept an argument and display the product of its argument multiplied times 10\n",
    "# first we need to define the function \n",
    "def times_ten(argument):\n",
    "    # this part times the argument by 10 and prints result\n",
    "    result = argument * 10\n",
    "    print(result)"
   ]
  },
  {
   "cell_type": "code",
   "execution_count": 3,
   "id": "99fb6f8d",
   "metadata": {},
   "outputs": [
    {
     "name": "stdout",
     "output_type": "stream",
     "text": [
      "Hello worldHello worldHello worldHello worldHello worldHello worldHello worldHello worldHello worldHello world\n"
     ]
    }
   ],
   "source": [
    "times_ten('Hello world')"
   ]
  },
  {
   "cell_type": "code",
   "execution_count": 4,
   "id": "5a899c37",
   "metadata": {},
   "outputs": [
    {
     "name": "stdout",
     "output_type": "stream",
     "text": [
      "Hello world Hello world Hello world Hello world Hello world Hello world Hello world Hello world Hello world Hello world \n"
     ]
    }
   ],
   "source": [
    "times_ten(\"Hello world \")"
   ]
  },
  {
   "cell_type": "code",
   "execution_count": 5,
   "id": "e8b6c257",
   "metadata": {},
   "outputs": [
    {
     "name": "stdout",
     "output_type": "stream",
     "text": [
      "Hello World, Hello World, Hello World, Hello World, Hello World, Hello World, Hello World, Hello World, Hello World, Hello World, \n"
     ]
    }
   ],
   "source": [
    "times_ten(\"Hello World, \")"
   ]
  },
  {
   "cell_type": "markdown",
   "id": "b85a583b",
   "metadata": {},
   "source": [
    "# question 10"
   ]
  },
  {
   "cell_type": "markdown",
   "id": "efec3cd5",
   "metadata": {},
   "source": [
    "### Write a function named get_first_name that asks the user to enter his or her first name, and returns it."
   ]
  },
  {
   "cell_type": "code",
   "execution_count": 16,
   "id": "64f90fb8",
   "metadata": {},
   "outputs": [],
   "source": [
    "#first we need to define the function \n",
    "def get_first_name():\n",
    "    # then we need to add a input function and return function \n",
    "    first_name = input(\"enter your name: \")\n",
    "    return first_name"
   ]
  },
  {
   "cell_type": "code",
   "execution_count": 19,
   "id": "26d92773",
   "metadata": {},
   "outputs": [
    {
     "name": "stdout",
     "output_type": "stream",
     "text": [
      "enter your name: Jaden\n",
      "Jaden\n",
      "enter your name: tom\n",
      "tom\n"
     ]
    }
   ],
   "source": [
    "# call function and capuring the return in a varable \n",
    "first_name = get_first_name()\n",
    "print(first_name)"
   ]
  },
  {
   "cell_type": "markdown",
   "id": "053da558",
   "metadata": {},
   "source": [
    "# Programming exerices "
   ]
  },
  {
   "cell_type": "markdown",
   "id": "585cd4f6",
   "metadata": {},
   "source": [
    "## Kilometer converter"
   ]
  },
  {
   "cell_type": "code",
   "execution_count": 23,
   "id": "a103f6f5",
   "metadata": {},
   "outputs": [],
   "source": [
    "# eneter the def and return function for ecation given \n",
    "def Km_M(Km):\n",
    "    M = Km * .6214\n",
    "    return M"
   ]
  },
  {
   "cell_type": "code",
   "execution_count": 22,
   "id": "80302d4e",
   "metadata": {},
   "outputs": [
    {
     "name": "stdout",
     "output_type": "stream",
     "text": [
      "enter a distances in Kilometers20\n",
      "the miles is 12.427999999999999\n"
     ]
    }
   ],
   "source": [
    "# eneter print function and grab M from the cell on top \n",
    "Km = float(input('enter a distances in Kilometers'))\n",
    "M = Km_M(Km)\n",
    "print(f'the miles is {M}')"
   ]
  },
  {
   "cell_type": "code",
   "execution_count": 21,
   "id": "1dc0b890",
   "metadata": {},
   "outputs": [],
   "source": [
    "def Km_M(Km):\n",
    "    M = Km * .6214\n",
    "    return M"
   ]
  },
  {
   "cell_type": "code",
   "execution_count": 24,
   "id": "f67363b9",
   "metadata": {},
   "outputs": [
    {
     "name": "stdout",
     "output_type": "stream",
     "text": [
      "enter a distances in Kilometers50\n",
      "the miles is 31.069999999999997\n"
     ]
    }
   ],
   "source": [
    "Km = float(input('enter a distances in Kilometers'))\n",
    "M = Km_M(Km)\n",
    "print(f'the miles is {M}')"
   ]
  },
  {
   "cell_type": "markdown",
   "id": "ccfb898b",
   "metadata": {},
   "source": [
    "# Prime numbers # 16"
   ]
  },
  {
   "cell_type": "code",
   "execution_count": 37,
   "id": "0e4a329a",
   "metadata": {},
   "outputs": [],
   "source": [
    "# enter def and for in range to check for prime numbers \n",
    "def is_prime(num):\n",
    "    for I in range(2,num):\n",
    "        remainder = num % I\n",
    "        if remainder == 0:\n",
    "            return False\n",
    "        \n",
    "    # whole loop finished now we can confinety say its true     \n",
    "    return True"
   ]
  },
  {
   "cell_type": "code",
   "execution_count": 33,
   "id": "6b850d31",
   "metadata": {},
   "outputs": [
    {
     "name": "stdout",
     "output_type": "stream",
     "text": [
      "enter and number to see if its prime: 7\n",
      "the number was prime.\n"
     ]
    }
   ],
   "source": [
    "# num float input promp user to enter a number \n",
    "num = int(input(\"enter and number to see if its prime: \"))\n",
    "prime = is_prime(num) # is_prime(num) is now = to prime \n",
    "if prime:\n",
    "    print('the number was prime.')\n",
    "else:\n",
    "    print('the number is not prime.')\n",
    "# if to print if number is prime, else if its not "
   ]
  },
  {
   "cell_type": "code",
   "execution_count": 38,
   "id": "27561649",
   "metadata": {},
   "outputs": [
    {
     "name": "stdout",
     "output_type": "stream",
     "text": [
      "enter and number to see if its prime: 15\n",
      "the number is not prime.\n"
     ]
    }
   ],
   "source": [
    "# num float input promp user to enter a number \n",
    "num = int(input(\"enter and number to see if its prime: \"))\n",
    "prime = is_prime(num) # is_prime(num) is now = to prime \n",
    "if prime:\n",
    "    print('the number was prime.')\n",
    "else:\n",
    "    print('the number is not prime.')\n",
    "# if to print if number is prime, else if its not "
   ]
  },
  {
   "cell_type": "markdown",
   "id": "54c86864",
   "metadata": {},
   "source": [
    "# Prime number list # 17 "
   ]
  },
  {
   "cell_type": "code",
   "execution_count": 40,
   "id": "1aaccb5d",
   "metadata": {},
   "outputs": [
    {
     "name": "stdout",
     "output_type": "stream",
     "text": [
      "1\n",
      "2\n",
      "3\n",
      "5\n",
      "7\n",
      "11\n",
      "13\n",
      "17\n",
      "19\n",
      "23\n",
      "29\n",
      "31\n",
      "37\n",
      "41\n",
      "43\n",
      "47\n",
      "53\n",
      "59\n",
      "61\n",
      "67\n",
      "71\n",
      "73\n",
      "79\n",
      "83\n",
      "89\n",
      "97\n"
     ]
    }
   ],
   "source": [
    "# enter def and for in range to check for prime numbers \n",
    "def is_prime(num):\n",
    "    for I in range(2,num):\n",
    "        remainder = num % I\n",
    "        if remainder == 0:\n",
    "            return False\n",
    "        \n",
    "    # whole loop finished now we can confinety say its true     \n",
    "    return True\n",
    "for I in range(1,101):\n",
    "    prime = is_prime(I)\n",
    "    if prime:\n",
    "        print(I)"
   ]
  },
  {
   "cell_type": "code",
   "execution_count": null,
   "id": "88112a2b",
   "metadata": {},
   "outputs": [],
   "source": []
  }
 ],
 "metadata": {
  "kernelspec": {
   "display_name": "Python 3 (ipykernel)",
   "language": "python",
   "name": "python3"
  },
  "language_info": {
   "codemirror_mode": {
    "name": "ipython",
    "version": 3
   },
   "file_extension": ".py",
   "mimetype": "text/x-python",
   "name": "python",
   "nbconvert_exporter": "python",
   "pygments_lexer": "ipython3",
   "version": "3.11.4"
  }
 },
 "nbformat": 4,
 "nbformat_minor": 5
}
